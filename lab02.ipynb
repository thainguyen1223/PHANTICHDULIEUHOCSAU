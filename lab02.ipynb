{
  "nbformat": 4,
  "nbformat_minor": 0,
  "metadata": {
    "colab": {
      "name": "lab02.ipynb",
      "provenance": [],
      "collapsed_sections": [],
      "authorship_tag": "ABX9TyODtub58WQDYlpeKBPipTcN",
      "include_colab_link": true
    },
    "kernelspec": {
      "name": "python3",
      "display_name": "Python 3"
    },
    "language_info": {
      "name": "python"
    }
  },
  "cells": [
    {
      "cell_type": "markdown",
      "metadata": {
        "id": "view-in-github",
        "colab_type": "text"
      },
      "source": [
        "<a href=\"https://colab.research.google.com/github/quangvinht/Phan_tich_du_lieu_hoc_sau/blob/main/lab02.ipynb\" target=\"_parent\"><img src=\"https://colab.research.google.com/assets/colab-badge.svg\" alt=\"Open In Colab\"/></a>"
      ]
    },
    {
      "cell_type": "code",
      "execution_count": 4,
      "metadata": {
        "id": "PfCkDO-88ilS"
      },
      "outputs": [],
      "source": [
        "import pandas as pd\n",
        "import sys\n",
        "import seaborn as sns\n",
        "import matplotlib.pyplot as plt"
      ]
    },
    {
      "cell_type": "code",
      "source": [
        "def load_data(filename):\n",
        "  return pd.read_csv('https://raw.githubusercontent.com/quangvinht/Phan_tich_du_lieu_hoc_sau/main/'+filename)\n",
        "\n",
        "df = load_data('processed_dulieuxettuyendaihoc.csv')\n",
        "print(df.head(10))"
      ],
      "metadata": {
        "colab": {
          "base_uri": "https://localhost:8080/"
        },
        "id": "ip8KJvkkAfob",
        "outputId": "2b338b71-80e0-43f1-a2a9-bdfbcdd01ac3"
      },
      "execution_count": 5,
      "outputs": [
        {
          "output_type": "stream",
          "name": "stdout",
          "text": [
            "   STT   T1   L1   H1   S1   V1  ...  XL2  XL3  US_TBM1  US_TBM2  US_TBM3  KQXT\n",
            "0    1  7.2  7.3  6.3  7.3  7.0  ...    K    K    2.800    3.016    2.804   0.0\n",
            "1    2  5.4  3.9  3.9  4.0  5.4  ...   TB   TB    1.876    2.188    2.028   0.0\n",
            "2    3  5.6  6.8  7.2  7.5  4.3  ...   TB   TB    2.308    2.152    2.416   1.0\n",
            "3    4  6.6  6.4  5.3  6.9  5.4  ...   TB    K    2.484    2.080    2.752   0.0\n",
            "4    5  6.0  5.0  6.0  7.3  6.5  ...   TB    K    2.600    2.544    2.796   0.0\n",
            "5    6  9.3  7.6  7.9  8.6  7.0  ...    G    K    3.184    3.416    2.952   0.0\n",
            "6    7  2.8  3.9  5.5  6.9  5.0  ...   TB   TB    1.960    2.240    2.404   1.0\n",
            "7    8  8.3  6.0  7.6  5.1  7.5  ...    K    K    2.720    2.748    2.812   0.0\n",
            "8    9  6.5  6.3  7.6  6.0  5.5  ...    K    K    2.492    2.688    3.024   0.0\n",
            "9   10  7.3  5.9  4.7  7.1  6.7  ...    K    K    2.720    2.900    2.812   0.0\n",
            "\n",
            "[10 rows x 66 columns]\n"
          ]
        }
      ]
    },
    {
      "cell_type": "code",
      "source": [
        "# Phần 1:\n",
        "  # câu 1:\n",
        "df_sort_dh1 = df.sort_values(by='DH1')\n",
        "print(df_sort_dh1)"
      ],
      "metadata": {
        "colab": {
          "base_uri": "https://localhost:8080/"
        },
        "id": "gND_LTD1A1FN",
        "outputId": "2ddbc5f6-f7d9-40ae-f5c8-83b3cd19905a"
      },
      "execution_count": 6,
      "outputs": [
        {
          "output_type": "stream",
          "name": "stdout",
          "text": [
            "    STT   T1   L1   H1   S1   V1  ...  XL2  XL3  US_TBM1  US_TBM2  US_TBM3  KQXT\n",
            "53   54  4.9  5.9  6.2  5.6  5.9  ...   TB   TB    2.276    2.504    2.408   0.0\n",
            "43   44  6.6  7.2  5.9  6.9  7.6  ...    K    K    2.820    2.644    2.708   0.0\n",
            "72   73  5.5  6.6  7.2  7.6  5.5  ...   TB   TB    2.480    2.352    2.488   0.0\n",
            "5     6  9.3  7.6  7.9  8.6  7.0  ...    G    K    3.184    3.416    2.952   0.0\n",
            "87   88  7.3  4.3  5.3  5.8  4.9  ...   TB   TB    2.176    2.312    2.592   0.0\n",
            "..  ...  ...  ...  ...  ...  ...  ...  ...  ...      ...      ...      ...   ...\n",
            "84   85  8.4  7.4  6.0  7.8  6.3  ...    K    K    2.892    3.108    3.032   1.0\n",
            "11   12  7.9  7.0  9.1  8.6  6.1  ...    K    K    2.972    3.088    2.996   1.0\n",
            "23   24  5.3  6.3  5.7  6.9  5.9  ...   TB    K    2.420    2.528    2.684   1.0\n",
            "24   25  2.4  4.1  3.6  5.5  5.9  ...    Y   TB    1.780    1.952    2.164   0.0\n",
            "97   98  8.8  5.5  7.4  7.7  6.2  ...    K    K    2.820    3.136    3.068   1.0\n",
            "\n",
            "[100 rows x 66 columns]\n"
          ]
        }
      ]
    },
    {
      "cell_type": "code",
      "source": [
        "# Phần 1:\n",
        "  # câu 2:\n",
        "\n",
        "df_male = df[df['GT'] == 'M']\n",
        "df_female = df[df['GT'] == 'F']\n",
        "\n",
        "df_male_sort = df_male.sort_values(by='DH2')\n",
        "df_female_sort = df_female.sort_values(by='DH2')\n",
        "\n",
        "print(df_male_sort)\n",
        "print(df_female_sort)\n",
        "\n"
      ],
      "metadata": {
        "colab": {
          "base_uri": "https://localhost:8080/"
        },
        "id": "HzAEUTkBBOuq",
        "outputId": "f0858a8f-ec59-427a-ad0a-9f7b956909ca"
      },
      "execution_count": 7,
      "outputs": [
        {
          "output_type": "stream",
          "name": "stdout",
          "text": [
            "    STT   T1   L1   H1   S1   V1  ...  XL2  XL3  US_TBM1  US_TBM2  US_TBM3  KQXT\n",
            "99  100  4.1  5.2  4.9  5.3  5.5  ...   TB   TB    2.104    2.288    2.340   0.0\n",
            "94   95  5.8  5.9  7.6  6.1  5.3  ...    K    K    2.440    2.684    2.672   0.0\n",
            "62   63  6.4  7.2  8.1  8.5  6.2  ...    K    K    2.852    2.900    2.900   0.0\n",
            "15   16  2.5  5.3  4.9  8.2  6.9  ...   TB   TB    2.196    2.576    2.484   0.0\n",
            "38   39  4.4  5.6  5.2  6.4  5.9  ...   TB   TB    2.240    2.112    2.232   0.0\n",
            "75   76  5.5  4.0  4.3  5.6  3.3  ...    Y    Y    1.744    1.768    1.916   0.0\n",
            "63   64  7.5  7.6  7.8  7.9  5.7  ...    K    K    2.792    2.932    2.700   0.0\n",
            "98   99  2.7  1.8  3.4  5.3  4.5  ...    Y   TB    1.660    1.888    2.116   0.0\n",
            "36   37  7.3  4.8  4.9  4.6  4.0  ...   TB    K    2.048    2.476    2.640   0.0\n",
            "60   61  6.2  7.8  7.8  8.0  5.1  ...    K    K    2.592    2.648    2.752   0.0\n",
            "65   66  3.0  4.0  3.8  6.6  5.4  ...    Y   TB    1.836    1.924    2.352   0.0\n",
            "29   30  4.5  3.8  4.8  5.9  4.3  ...   TB   TB    1.984    2.208    2.220   0.0\n",
            "69   70  6.0  5.9  6.0  5.3  4.8  ...   TB   TB    2.276    2.548    2.260   0.0\n",
            "64   65  7.1  6.2  8.4  7.3  6.4  ...    K    K    2.760    2.824    2.772   0.0\n",
            "5     6  9.3  7.6  7.9  8.6  7.0  ...    G    K    3.184    3.416    2.952   0.0\n",
            "59   60  3.6  4.6  5.0  6.9  5.2  ...   TB   TB    2.068    2.076    2.308   0.0\n",
            "77   78  5.2  3.6  3.8  7.1  5.3  ...   TB   TB    2.048    2.444    2.588   0.0\n",
            "39   40  4.3  5.0  4.8  1.9  3.1  ...   TB    K    1.756    2.228    2.692   0.0\n",
            "1     2  5.4  3.9  3.9  4.0  5.4  ...   TB   TB    1.876    2.188    2.028   0.0\n",
            "87   88  7.3  4.3  5.3  5.8  4.9  ...   TB   TB    2.176    2.312    2.592   0.0\n",
            "88   89  5.2  6.0  4.7  6.2  3.9  ...    K   TB    2.012    2.632    2.400   0.0\n",
            "33   34  6.4  4.6  6.4  5.9  5.7  ...   TB   TB    2.324    2.004    2.252   0.0\n",
            "90   91  8.1  7.7  9.1  8.5  6.1  ...    G    G    3.136    3.308    3.316   1.0\n",
            "3     4  6.6  6.4  5.3  6.9  5.4  ...   TB    K    2.484    2.080    2.752   0.0\n",
            "93   94  5.2  5.2  6.8  7.9  6.6  ...    K    K    2.612    2.848    2.788   0.0\n",
            "84   85  8.4  7.4  6.0  7.8  6.3  ...    K    K    2.892    3.108    3.032   1.0\n",
            "72   73  5.5  6.6  7.2  7.6  5.5  ...   TB   TB    2.480    2.352    2.488   0.0\n",
            "67   68  4.6  4.9  5.3  5.7  4.5  ...   TB   TB    1.968    2.316    2.432   0.0\n",
            "81   82  5.7  5.0  4.7  5.7  4.7  ...    Y   TB    2.044    1.944    2.528   0.0\n",
            "78   79  5.3  4.3  5.9  7.7  6.8  ...   TB   TB    2.464    2.284    2.096   0.0\n",
            "66   67  5.1  3.7  4.7  5.5  5.1  ...   TB   TB    1.896    2.208    2.332   0.0\n",
            "4     5  6.0  5.0  6.0  7.3  6.5  ...   TB    K    2.600    2.544    2.796   0.0\n",
            "34   35  4.7  7.2  7.4  7.6  6.3  ...   TB    K    2.460    2.476    2.604   0.0\n",
            "17   18  5.4  6.0  4.9  5.5  4.2  ...   TB    K    2.124    2.464    2.740   0.0\n",
            "91   92  7.8  6.5  6.7  5.4  6.2  ...    K    K    2.468    2.652    3.060   0.0\n",
            "31   32  2.6  4.6  4.6  3.6  4.2  ...   TB    K    1.660    2.176    2.880   0.0\n",
            "86   87  6.3  6.5  8.1  7.7  6.7  ...    K    K    2.644    2.608    2.628   0.0\n",
            "18   19  5.6  4.8  7.3  3.9  5.5  ...   TB    K    2.204    2.260    2.716   0.0\n",
            "20   21  3.9  3.9  6.0  6.7  6.1  ...   TB    K    2.116    2.372    2.820   0.0\n",
            "35   36  6.5  4.4  6.5  5.7  6.4  ...   TB   TB    2.316    2.232    2.528   0.0\n",
            "58   59  6.5  5.8  7.4  7.7  7.2  ...    K    K    2.676    3.000    3.152   0.0\n",
            "92   93  5.0  6.6  6.5  7.2  5.8  ...    K    K    2.440    2.612    2.704   0.0\n",
            "28   29  6.3  6.4  6.6  6.7  6.6  ...   TB    K    2.636    2.412    2.756   0.0\n",
            "37   38  3.4  4.2  3.7  4.4  6.1  ...   TB   TB    1.800    2.104    2.220   0.0\n",
            "23   24  5.3  6.3  5.7  6.9  5.9  ...   TB    K    2.420    2.528    2.684   1.0\n",
            "53   54  4.9  5.9  6.2  5.6  5.9  ...   TB   TB    2.276    2.504    2.408   0.0\n",
            "89   90  5.7  4.6  5.9  5.7  4.7  ...   TB   TB    2.048    2.128    2.276   0.0\n",
            "68   69  7.3  6.4  6.9  7.5  6.2  ...    K    G    2.876    3.080    3.200   0.0\n",
            "47   48  7.9  7.6  8.4  8.6  6.2  ...    K    K    3.068    2.996    2.844   1.0\n",
            "11   12  7.9  7.0  9.1  8.6  6.1  ...    K    K    2.972    3.088    2.996   1.0\n",
            "2     3  5.6  6.8  7.2  7.5  4.3  ...   TB   TB    2.308    2.152    2.416   1.0\n",
            "97   98  8.8  5.5  7.4  7.7  6.2  ...    K    K    2.820    3.136    3.068   1.0\n",
            "\n",
            "[52 rows x 66 columns]\n",
            "    STT   T1   L1   H1   S1   V1  ...  XL2  XL3  US_TBM1  US_TBM2  US_TBM3  KQXT\n",
            "95   96  8.6  6.9  7.4  8.8  7.6  ...    K    K    2.972    2.968    2.732   0.0\n",
            "25   26  3.6  5.8  6.9  6.1  5.5  ...   TB   TB    2.160    2.080    2.036   0.0\n",
            "24   25  2.4  4.1  3.6  5.5  5.9  ...    Y   TB    1.780    1.952    2.164   0.0\n",
            "46   47  6.7  6.8  6.4  5.9  5.6  ...    K   TB    2.596    2.604    2.464   0.0\n",
            "13   14  4.9  5.4  5.0  5.0  5.8  ...   TB   TB    2.152    2.204    2.504   0.0\n",
            "21   22  5.0  5.1  6.3  4.5  6.8  ...   TB   TB    2.180    2.084    2.532   0.0\n",
            "0     1  7.2  7.3  6.3  7.3  7.0  ...    K    K    2.800    3.016    2.804   0.0\n",
            "51   52  6.0  5.3  8.5  6.6  7.6  ...    K    K    2.668    3.092    2.872   0.0\n",
            "52   53  5.3  7.0  7.0  7.3  6.7  ...    K   TB    2.724    2.940    2.476   0.0\n",
            "30   31  7.6  7.2  5.4  5.6  5.6  ...    K    K    2.480    2.628    2.768   0.0\n",
            "61   62  7.2  5.5  6.5  6.9  8.0  ...    K    K    2.724    2.892    3.056   0.0\n",
            "74   75  4.2  5.6  5.0  8.4  6.3  ...    K    K    2.360    2.620    2.804   0.0\n",
            "22   23  5.0  4.5  5.3  6.8  4.8  ...   TB   TB    2.108    2.332    2.336   0.0\n",
            "8     9  6.5  6.3  7.6  6.0  5.5  ...    K    K    2.492    2.688    3.024   0.0\n",
            "79   80  4.8  3.9  5.5  4.9  5.6  ...   TB   TB    2.004    2.120    2.432   0.0\n",
            "80   81  8.2  6.5  5.1  6.1  6.6  ...    K    K    2.796    2.920    3.000   0.0\n",
            "43   44  6.6  7.2  5.9  6.9  7.6  ...    K    K    2.820    2.644    2.708   0.0\n",
            "42   43  7.0  7.4  7.5  8.3  8.7  ...    K    K    3.136    3.180    2.888   0.0\n",
            "54   55  5.3  5.7  5.4  4.6  4.4  ...   TB    K    2.068    2.168    2.636   0.0\n",
            "96   97  3.7  5.4  6.0  5.1  5.5  ...   TB   TB    1.972    2.060    2.556   0.0\n",
            "40   41  5.3  6.3  8.4  7.3  5.8  ...    K    K    2.724    2.928    2.864   0.0\n",
            "44   45  6.1  6.9  5.9  6.6  6.0  ...    K    K    2.564    2.908    2.908   0.0\n",
            "76   77  5.4  6.8  7.1  7.2  5.6  ...    K    K    2.476    2.620    2.720   0.0\n",
            "19   20  8.2  7.3  7.8  7.6  5.6  ...   TB    K    2.800    2.488    2.688   0.0\n",
            "48   49  7.9  6.0  6.4  7.4  8.0  ...    G    K    2.964    3.204    3.084   1.0\n",
            "10   11  5.2  6.4  7.4  7.0  7.1  ...    K    K    2.716    2.912    2.936   0.0\n",
            "16   17  8.8  7.0  7.7  7.1  6.1  ...    K    K    2.824    2.756    2.692   0.0\n",
            "7     8  8.3  6.0  7.6  5.1  7.5  ...    K    K    2.720    2.748    2.812   0.0\n",
            "73   74  5.2  3.1  4.7  5.8  6.1  ...   TB   TB    1.940    2.236    2.160   0.0\n",
            "70   71  5.8  6.3  6.0  6.5  6.7  ...    K    K    2.560    2.780    2.956   0.0\n",
            "12   13  7.3  6.3  8.7  7.7  6.6  ...    K    K    2.976    2.728    2.984   0.0\n",
            "41   42  8.3  8.0  9.0  8.3  7.9  ...    G    G    3.232    3.312    3.288   0.0\n",
            "49   50  8.2  7.2  8.4  5.9  5.9  ...    K    K    2.748    2.768    2.856   0.0\n",
            "45   46  6.9  5.3  7.1  5.7  7.0  ...   TB    K    2.676    2.516    2.632   0.0\n",
            "26   27  4.9  4.8  5.0  5.4  5.2  ...   TB    K    2.064    2.188    2.892   0.0\n",
            "32   33  6.0  6.8  7.1  7.3  6.6  ...    K    K    2.696    2.652    2.756   0.0\n",
            "14   15  7.1  8.0  9.1  7.5  6.1  ...    K    K    2.968    3.028    3.180   0.0\n",
            "55   56  7.9  6.9  7.0  7.0  7.0  ...    K    K    2.664    2.816    3.060   0.0\n",
            "71   72  3.0  5.1  3.0  6.4  4.3  ...   TB    K    1.616    2.120    2.688   0.0\n",
            "9    10  7.3  5.9  4.7  7.1  6.7  ...    K    K    2.720    2.900    2.812   0.0\n",
            "83   84  5.9  5.7  7.1  6.7  6.5  ...    K    K    2.588    2.844    2.988   0.0\n",
            "27   28  8.1  5.5  5.1  5.6  6.2  ...   TB   TB    2.496    2.200    2.504   0.0\n",
            "50   51  5.5  7.1  6.1  5.8  6.2  ...   TB    K    2.508    2.540    2.872   0.0\n",
            "57   58  7.2  7.6  6.6  6.6  5.0  ...    K    K    2.736    2.896    2.636   0.0\n",
            "56   57  6.3  6.9  6.9  6.9  6.8  ...    K    K    2.696    2.764    2.952   1.0\n",
            "85   86  7.2  6.6  6.8  6.7  7.1  ...    K    K    2.732    3.028    2.784   0.0\n",
            "82   83  5.1  5.9  5.9  4.5  6.2  ...    K    K    2.216    2.600    2.848   0.0\n",
            "6     7  2.8  3.9  5.5  6.9  5.0  ...   TB   TB    1.960    2.240    2.404   1.0\n",
            "\n",
            "[48 rows x 66 columns]\n"
          ]
        }
      ]
    },
    {
      "cell_type": "code",
      "source": [
        "import numpy as np\n",
        "def Q1(g):\n",
        "  return np.percentile(g,25)\n",
        "def Q2(g):\n",
        "  return np.percentile(g,50)\n",
        "def Q3(g):\n",
        "  return np.percentile(g,75)\n",
        "def std(g):\n",
        "  return np.std(g)\n",
        "\n",
        "# Phần 1:\n",
        "  # câu 3:\n",
        "pd.pivot_table(data=df, index='KT', values='DH1', aggfunc=['sum','mean','median','min','max', std, Q1, Q2, Q3])"
      ],
      "metadata": {
        "colab": {
          "base_uri": "https://localhost:8080/",
          "height": 269
        },
        "id": "ivl306LSBiE1",
        "outputId": "513ee6f8-bd69-4a83-e036-1207926725e3"
      },
      "execution_count": 8,
      "outputs": [
        {
          "output_type": "execute_result",
          "data": {
            "text/html": [
              "\n",
              "  <div id=\"df-6c769032-e3fb-4a1f-b95a-b16952ce31ca\">\n",
              "    <div class=\"colab-df-container\">\n",
              "      <div>\n",
              "<style scoped>\n",
              "    .dataframe tbody tr th:only-of-type {\n",
              "        vertical-align: middle;\n",
              "    }\n",
              "\n",
              "    .dataframe tbody tr th {\n",
              "        vertical-align: top;\n",
              "    }\n",
              "\n",
              "    .dataframe thead tr th {\n",
              "        text-align: left;\n",
              "    }\n",
              "\n",
              "    .dataframe thead tr:last-of-type th {\n",
              "        text-align: right;\n",
              "    }\n",
              "</style>\n",
              "<table border=\"1\" class=\"dataframe\">\n",
              "  <thead>\n",
              "    <tr>\n",
              "      <th></th>\n",
              "      <th>sum</th>\n",
              "      <th>mean</th>\n",
              "      <th>median</th>\n",
              "      <th>min</th>\n",
              "      <th>max</th>\n",
              "      <th>std</th>\n",
              "      <th>Q1</th>\n",
              "      <th>Q2</th>\n",
              "      <th>Q3</th>\n",
              "    </tr>\n",
              "    <tr>\n",
              "      <th></th>\n",
              "      <th>DH1</th>\n",
              "      <th>DH1</th>\n",
              "      <th>DH1</th>\n",
              "      <th>DH1</th>\n",
              "      <th>DH1</th>\n",
              "      <th>DH1</th>\n",
              "      <th>DH1</th>\n",
              "      <th>DH1</th>\n",
              "      <th>DH1</th>\n",
              "    </tr>\n",
              "    <tr>\n",
              "      <th>KT</th>\n",
              "      <th></th>\n",
              "      <th></th>\n",
              "      <th></th>\n",
              "      <th></th>\n",
              "      <th></th>\n",
              "      <th></th>\n",
              "      <th></th>\n",
              "      <th></th>\n",
              "      <th></th>\n",
              "    </tr>\n",
              "  </thead>\n",
              "  <tbody>\n",
              "    <tr>\n",
              "      <th>A</th>\n",
              "      <td>163.50</td>\n",
              "      <td>3.336735</td>\n",
              "      <td>3.25</td>\n",
              "      <td>1.00</td>\n",
              "      <td>6.50</td>\n",
              "      <td>1.261226</td>\n",
              "      <td>2.2500</td>\n",
              "      <td>3.25</td>\n",
              "      <td>4.250</td>\n",
              "    </tr>\n",
              "    <tr>\n",
              "      <th>A1</th>\n",
              "      <td>17.50</td>\n",
              "      <td>2.916667</td>\n",
              "      <td>3.00</td>\n",
              "      <td>2.00</td>\n",
              "      <td>4.25</td>\n",
              "      <td>0.786165</td>\n",
              "      <td>2.1875</td>\n",
              "      <td>3.00</td>\n",
              "      <td>3.250</td>\n",
              "    </tr>\n",
              "    <tr>\n",
              "      <th>B</th>\n",
              "      <td>29.50</td>\n",
              "      <td>3.277778</td>\n",
              "      <td>3.50</td>\n",
              "      <td>1.75</td>\n",
              "      <td>4.50</td>\n",
              "      <td>0.776785</td>\n",
              "      <td>3.2500</td>\n",
              "      <td>3.50</td>\n",
              "      <td>3.750</td>\n",
              "    </tr>\n",
              "    <tr>\n",
              "      <th>C</th>\n",
              "      <td>79.25</td>\n",
              "      <td>5.660714</td>\n",
              "      <td>5.25</td>\n",
              "      <td>4.75</td>\n",
              "      <td>7.00</td>\n",
              "      <td>0.782665</td>\n",
              "      <td>5.0625</td>\n",
              "      <td>5.25</td>\n",
              "      <td>6.375</td>\n",
              "    </tr>\n",
              "    <tr>\n",
              "      <th>D1</th>\n",
              "      <td>84.25</td>\n",
              "      <td>3.829545</td>\n",
              "      <td>3.75</td>\n",
              "      <td>1.25</td>\n",
              "      <td>6.75</td>\n",
              "      <td>1.338644</td>\n",
              "      <td>3.0000</td>\n",
              "      <td>3.75</td>\n",
              "      <td>4.875</td>\n",
              "    </tr>\n",
              "  </tbody>\n",
              "</table>\n",
              "</div>\n",
              "      <button class=\"colab-df-convert\" onclick=\"convertToInteractive('df-6c769032-e3fb-4a1f-b95a-b16952ce31ca')\"\n",
              "              title=\"Convert this dataframe to an interactive table.\"\n",
              "              style=\"display:none;\">\n",
              "        \n",
              "  <svg xmlns=\"http://www.w3.org/2000/svg\" height=\"24px\"viewBox=\"0 0 24 24\"\n",
              "       width=\"24px\">\n",
              "    <path d=\"M0 0h24v24H0V0z\" fill=\"none\"/>\n",
              "    <path d=\"M18.56 5.44l.94 2.06.94-2.06 2.06-.94-2.06-.94-.94-2.06-.94 2.06-2.06.94zm-11 1L8.5 8.5l.94-2.06 2.06-.94-2.06-.94L8.5 2.5l-.94 2.06-2.06.94zm10 10l.94 2.06.94-2.06 2.06-.94-2.06-.94-.94-2.06-.94 2.06-2.06.94z\"/><path d=\"M17.41 7.96l-1.37-1.37c-.4-.4-.92-.59-1.43-.59-.52 0-1.04.2-1.43.59L10.3 9.45l-7.72 7.72c-.78.78-.78 2.05 0 2.83L4 21.41c.39.39.9.59 1.41.59.51 0 1.02-.2 1.41-.59l7.78-7.78 2.81-2.81c.8-.78.8-2.07 0-2.86zM5.41 20L4 18.59l7.72-7.72 1.47 1.35L5.41 20z\"/>\n",
              "  </svg>\n",
              "      </button>\n",
              "      \n",
              "  <style>\n",
              "    .colab-df-container {\n",
              "      display:flex;\n",
              "      flex-wrap:wrap;\n",
              "      gap: 12px;\n",
              "    }\n",
              "\n",
              "    .colab-df-convert {\n",
              "      background-color: #E8F0FE;\n",
              "      border: none;\n",
              "      border-radius: 50%;\n",
              "      cursor: pointer;\n",
              "      display: none;\n",
              "      fill: #1967D2;\n",
              "      height: 32px;\n",
              "      padding: 0 0 0 0;\n",
              "      width: 32px;\n",
              "    }\n",
              "\n",
              "    .colab-df-convert:hover {\n",
              "      background-color: #E2EBFA;\n",
              "      box-shadow: 0px 1px 2px rgba(60, 64, 67, 0.3), 0px 1px 3px 1px rgba(60, 64, 67, 0.15);\n",
              "      fill: #174EA6;\n",
              "    }\n",
              "\n",
              "    [theme=dark] .colab-df-convert {\n",
              "      background-color: #3B4455;\n",
              "      fill: #D2E3FC;\n",
              "    }\n",
              "\n",
              "    [theme=dark] .colab-df-convert:hover {\n",
              "      background-color: #434B5C;\n",
              "      box-shadow: 0px 1px 3px 1px rgba(0, 0, 0, 0.15);\n",
              "      filter: drop-shadow(0px 1px 2px rgba(0, 0, 0, 0.3));\n",
              "      fill: #FFFFFF;\n",
              "    }\n",
              "  </style>\n",
              "\n",
              "      <script>\n",
              "        const buttonEl =\n",
              "          document.querySelector('#df-6c769032-e3fb-4a1f-b95a-b16952ce31ca button.colab-df-convert');\n",
              "        buttonEl.style.display =\n",
              "          google.colab.kernel.accessAllowed ? 'block' : 'none';\n",
              "\n",
              "        async function convertToInteractive(key) {\n",
              "          const element = document.querySelector('#df-6c769032-e3fb-4a1f-b95a-b16952ce31ca');\n",
              "          const dataTable =\n",
              "            await google.colab.kernel.invokeFunction('convertToInteractive',\n",
              "                                                     [key], {});\n",
              "          if (!dataTable) return;\n",
              "\n",
              "          const docLinkHtml = 'Like what you see? Visit the ' +\n",
              "            '<a target=\"_blank\" href=https://colab.research.google.com/notebooks/data_table.ipynb>data table notebook</a>'\n",
              "            + ' to learn more about interactive tables.';\n",
              "          element.innerHTML = '';\n",
              "          dataTable['output_type'] = 'display_data';\n",
              "          await google.colab.output.renderOutput(dataTable, element);\n",
              "          const docLink = document.createElement('div');\n",
              "          docLink.innerHTML = docLinkHtml;\n",
              "          element.appendChild(docLink);\n",
              "        }\n",
              "      </script>\n",
              "    </div>\n",
              "  </div>\n",
              "  "
            ],
            "text/plain": [
              "       sum      mean median   min   max       std      Q1    Q2     Q3\n",
              "       DH1       DH1    DH1   DH1   DH1       DH1     DH1   DH1    DH1\n",
              "KT                                                                    \n",
              "A   163.50  3.336735   3.25  1.00  6.50  1.261226  2.2500  3.25  4.250\n",
              "A1   17.50  2.916667   3.00  2.00  4.25  0.786165  2.1875  3.00  3.250\n",
              "B    29.50  3.277778   3.50  1.75  4.50  0.776785  3.2500  3.50  3.750\n",
              "C    79.25  5.660714   5.25  4.75  7.00  0.782665  5.0625  5.25  6.375\n",
              "D1   84.25  3.829545   3.75  1.25  6.75  1.338644  3.0000  3.75  4.875"
            ]
          },
          "metadata": {},
          "execution_count": 8
        }
      ]
    },
    {
      "cell_type": "code",
      "source": [
        "# Phần 1:\n",
        "  # câu 4:\n",
        "pd.pivot_table(data=df, index=['KT','KV'], values='DH1', aggfunc=['sum','mean','median','min','max', std, Q1, Q2, Q3])"
      ],
      "metadata": {
        "colab": {
          "base_uri": "https://localhost:8080/",
          "height": 520
        },
        "id": "ecxsOdTsCU5g",
        "outputId": "eeabdb17-959e-48f6-b4a1-c313aff09698"
      },
      "execution_count": 9,
      "outputs": [
        {
          "output_type": "execute_result",
          "data": {
            "text/html": [
              "\n",
              "  <div id=\"df-e06e4fd1-38a6-461e-a7c3-782eb0e68eec\">\n",
              "    <div class=\"colab-df-container\">\n",
              "      <div>\n",
              "<style scoped>\n",
              "    .dataframe tbody tr th:only-of-type {\n",
              "        vertical-align: middle;\n",
              "    }\n",
              "\n",
              "    .dataframe tbody tr th {\n",
              "        vertical-align: top;\n",
              "    }\n",
              "\n",
              "    .dataframe thead tr th {\n",
              "        text-align: left;\n",
              "    }\n",
              "\n",
              "    .dataframe thead tr:last-of-type th {\n",
              "        text-align: right;\n",
              "    }\n",
              "</style>\n",
              "<table border=\"1\" class=\"dataframe\">\n",
              "  <thead>\n",
              "    <tr>\n",
              "      <th></th>\n",
              "      <th></th>\n",
              "      <th>sum</th>\n",
              "      <th>mean</th>\n",
              "      <th>median</th>\n",
              "      <th>min</th>\n",
              "      <th>max</th>\n",
              "      <th>std</th>\n",
              "      <th>Q1</th>\n",
              "      <th>Q2</th>\n",
              "      <th>Q3</th>\n",
              "    </tr>\n",
              "    <tr>\n",
              "      <th></th>\n",
              "      <th></th>\n",
              "      <th>DH1</th>\n",
              "      <th>DH1</th>\n",
              "      <th>DH1</th>\n",
              "      <th>DH1</th>\n",
              "      <th>DH1</th>\n",
              "      <th>DH1</th>\n",
              "      <th>DH1</th>\n",
              "      <th>DH1</th>\n",
              "      <th>DH1</th>\n",
              "    </tr>\n",
              "    <tr>\n",
              "      <th>KT</th>\n",
              "      <th>KV</th>\n",
              "      <th></th>\n",
              "      <th></th>\n",
              "      <th></th>\n",
              "      <th></th>\n",
              "      <th></th>\n",
              "      <th></th>\n",
              "      <th></th>\n",
              "      <th></th>\n",
              "      <th></th>\n",
              "    </tr>\n",
              "  </thead>\n",
              "  <tbody>\n",
              "    <tr>\n",
              "      <th rowspan=\"3\" valign=\"top\">A</th>\n",
              "      <th>1</th>\n",
              "      <td>93.75</td>\n",
              "      <td>3.232759</td>\n",
              "      <td>3.250</td>\n",
              "      <td>1.00</td>\n",
              "      <td>6.50</td>\n",
              "      <td>1.345380</td>\n",
              "      <td>2.0000</td>\n",
              "      <td>3.250</td>\n",
              "      <td>4.2500</td>\n",
              "    </tr>\n",
              "    <tr>\n",
              "      <th>2</th>\n",
              "      <td>31.75</td>\n",
              "      <td>3.527778</td>\n",
              "      <td>3.500</td>\n",
              "      <td>2.00</td>\n",
              "      <td>6.25</td>\n",
              "      <td>1.346005</td>\n",
              "      <td>2.2500</td>\n",
              "      <td>3.500</td>\n",
              "      <td>4.2500</td>\n",
              "    </tr>\n",
              "    <tr>\n",
              "      <th>2NT</th>\n",
              "      <td>38.00</td>\n",
              "      <td>3.454545</td>\n",
              "      <td>3.500</td>\n",
              "      <td>2.00</td>\n",
              "      <td>4.75</td>\n",
              "      <td>0.871377</td>\n",
              "      <td>2.8750</td>\n",
              "      <td>3.500</td>\n",
              "      <td>4.1250</td>\n",
              "    </tr>\n",
              "    <tr>\n",
              "      <th rowspan=\"2\" valign=\"top\">A1</th>\n",
              "      <th>1</th>\n",
              "      <td>4.75</td>\n",
              "      <td>2.375000</td>\n",
              "      <td>2.375</td>\n",
              "      <td>2.00</td>\n",
              "      <td>2.75</td>\n",
              "      <td>0.375000</td>\n",
              "      <td>2.1875</td>\n",
              "      <td>2.375</td>\n",
              "      <td>2.5625</td>\n",
              "    </tr>\n",
              "    <tr>\n",
              "      <th>2NT</th>\n",
              "      <td>12.75</td>\n",
              "      <td>3.187500</td>\n",
              "      <td>3.250</td>\n",
              "      <td>2.00</td>\n",
              "      <td>4.25</td>\n",
              "      <td>0.797947</td>\n",
              "      <td>2.9375</td>\n",
              "      <td>3.250</td>\n",
              "      <td>3.5000</td>\n",
              "    </tr>\n",
              "    <tr>\n",
              "      <th rowspan=\"2\" valign=\"top\">B</th>\n",
              "      <th>1</th>\n",
              "      <td>25.75</td>\n",
              "      <td>3.218750</td>\n",
              "      <td>3.375</td>\n",
              "      <td>1.75</td>\n",
              "      <td>4.50</td>\n",
              "      <td>0.804650</td>\n",
              "      <td>3.0000</td>\n",
              "      <td>3.375</td>\n",
              "      <td>3.5625</td>\n",
              "    </tr>\n",
              "    <tr>\n",
              "      <th>2NT</th>\n",
              "      <td>3.75</td>\n",
              "      <td>3.750000</td>\n",
              "      <td>3.750</td>\n",
              "      <td>3.75</td>\n",
              "      <td>3.75</td>\n",
              "      <td>0.000000</td>\n",
              "      <td>3.7500</td>\n",
              "      <td>3.750</td>\n",
              "      <td>3.7500</td>\n",
              "    </tr>\n",
              "    <tr>\n",
              "      <th rowspan=\"3\" valign=\"top\">C</th>\n",
              "      <th>1</th>\n",
              "      <td>43.50</td>\n",
              "      <td>5.437500</td>\n",
              "      <td>5.250</td>\n",
              "      <td>4.75</td>\n",
              "      <td>7.00</td>\n",
              "      <td>0.681795</td>\n",
              "      <td>5.0000</td>\n",
              "      <td>5.250</td>\n",
              "      <td>5.4375</td>\n",
              "    </tr>\n",
              "    <tr>\n",
              "      <th>2</th>\n",
              "      <td>11.50</td>\n",
              "      <td>5.750000</td>\n",
              "      <td>5.750</td>\n",
              "      <td>5.00</td>\n",
              "      <td>6.50</td>\n",
              "      <td>0.750000</td>\n",
              "      <td>5.3750</td>\n",
              "      <td>5.750</td>\n",
              "      <td>6.1250</td>\n",
              "    </tr>\n",
              "    <tr>\n",
              "      <th>2NT</th>\n",
              "      <td>24.25</td>\n",
              "      <td>6.062500</td>\n",
              "      <td>6.000</td>\n",
              "      <td>5.25</td>\n",
              "      <td>7.00</td>\n",
              "      <td>0.817294</td>\n",
              "      <td>5.2500</td>\n",
              "      <td>6.000</td>\n",
              "      <td>6.8125</td>\n",
              "    </tr>\n",
              "    <tr>\n",
              "      <th rowspan=\"3\" valign=\"top\">D1</th>\n",
              "      <th>1</th>\n",
              "      <td>46.75</td>\n",
              "      <td>3.596154</td>\n",
              "      <td>3.500</td>\n",
              "      <td>1.50</td>\n",
              "      <td>5.75</td>\n",
              "      <td>1.215044</td>\n",
              "      <td>2.7500</td>\n",
              "      <td>3.500</td>\n",
              "      <td>4.2500</td>\n",
              "    </tr>\n",
              "    <tr>\n",
              "      <th>2</th>\n",
              "      <td>33.75</td>\n",
              "      <td>4.218750</td>\n",
              "      <td>4.500</td>\n",
              "      <td>1.25</td>\n",
              "      <td>6.75</td>\n",
              "      <td>1.512642</td>\n",
              "      <td>3.5625</td>\n",
              "      <td>4.500</td>\n",
              "      <td>5.0000</td>\n",
              "    </tr>\n",
              "    <tr>\n",
              "      <th>2NT</th>\n",
              "      <td>3.75</td>\n",
              "      <td>3.750000</td>\n",
              "      <td>3.750</td>\n",
              "      <td>3.75</td>\n",
              "      <td>3.75</td>\n",
              "      <td>0.000000</td>\n",
              "      <td>3.7500</td>\n",
              "      <td>3.750</td>\n",
              "      <td>3.7500</td>\n",
              "    </tr>\n",
              "  </tbody>\n",
              "</table>\n",
              "</div>\n",
              "      <button class=\"colab-df-convert\" onclick=\"convertToInteractive('df-e06e4fd1-38a6-461e-a7c3-782eb0e68eec')\"\n",
              "              title=\"Convert this dataframe to an interactive table.\"\n",
              "              style=\"display:none;\">\n",
              "        \n",
              "  <svg xmlns=\"http://www.w3.org/2000/svg\" height=\"24px\"viewBox=\"0 0 24 24\"\n",
              "       width=\"24px\">\n",
              "    <path d=\"M0 0h24v24H0V0z\" fill=\"none\"/>\n",
              "    <path d=\"M18.56 5.44l.94 2.06.94-2.06 2.06-.94-2.06-.94-.94-2.06-.94 2.06-2.06.94zm-11 1L8.5 8.5l.94-2.06 2.06-.94-2.06-.94L8.5 2.5l-.94 2.06-2.06.94zm10 10l.94 2.06.94-2.06 2.06-.94-2.06-.94-.94-2.06-.94 2.06-2.06.94z\"/><path d=\"M17.41 7.96l-1.37-1.37c-.4-.4-.92-.59-1.43-.59-.52 0-1.04.2-1.43.59L10.3 9.45l-7.72 7.72c-.78.78-.78 2.05 0 2.83L4 21.41c.39.39.9.59 1.41.59.51 0 1.02-.2 1.41-.59l7.78-7.78 2.81-2.81c.8-.78.8-2.07 0-2.86zM5.41 20L4 18.59l7.72-7.72 1.47 1.35L5.41 20z\"/>\n",
              "  </svg>\n",
              "      </button>\n",
              "      \n",
              "  <style>\n",
              "    .colab-df-container {\n",
              "      display:flex;\n",
              "      flex-wrap:wrap;\n",
              "      gap: 12px;\n",
              "    }\n",
              "\n",
              "    .colab-df-convert {\n",
              "      background-color: #E8F0FE;\n",
              "      border: none;\n",
              "      border-radius: 50%;\n",
              "      cursor: pointer;\n",
              "      display: none;\n",
              "      fill: #1967D2;\n",
              "      height: 32px;\n",
              "      padding: 0 0 0 0;\n",
              "      width: 32px;\n",
              "    }\n",
              "\n",
              "    .colab-df-convert:hover {\n",
              "      background-color: #E2EBFA;\n",
              "      box-shadow: 0px 1px 2px rgba(60, 64, 67, 0.3), 0px 1px 3px 1px rgba(60, 64, 67, 0.15);\n",
              "      fill: #174EA6;\n",
              "    }\n",
              "\n",
              "    [theme=dark] .colab-df-convert {\n",
              "      background-color: #3B4455;\n",
              "      fill: #D2E3FC;\n",
              "    }\n",
              "\n",
              "    [theme=dark] .colab-df-convert:hover {\n",
              "      background-color: #434B5C;\n",
              "      box-shadow: 0px 1px 3px 1px rgba(0, 0, 0, 0.15);\n",
              "      filter: drop-shadow(0px 1px 2px rgba(0, 0, 0, 0.3));\n",
              "      fill: #FFFFFF;\n",
              "    }\n",
              "  </style>\n",
              "\n",
              "      <script>\n",
              "        const buttonEl =\n",
              "          document.querySelector('#df-e06e4fd1-38a6-461e-a7c3-782eb0e68eec button.colab-df-convert');\n",
              "        buttonEl.style.display =\n",
              "          google.colab.kernel.accessAllowed ? 'block' : 'none';\n",
              "\n",
              "        async function convertToInteractive(key) {\n",
              "          const element = document.querySelector('#df-e06e4fd1-38a6-461e-a7c3-782eb0e68eec');\n",
              "          const dataTable =\n",
              "            await google.colab.kernel.invokeFunction('convertToInteractive',\n",
              "                                                     [key], {});\n",
              "          if (!dataTable) return;\n",
              "\n",
              "          const docLinkHtml = 'Like what you see? Visit the ' +\n",
              "            '<a target=\"_blank\" href=https://colab.research.google.com/notebooks/data_table.ipynb>data table notebook</a>'\n",
              "            + ' to learn more about interactive tables.';\n",
              "          element.innerHTML = '';\n",
              "          dataTable['output_type'] = 'display_data';\n",
              "          await google.colab.output.renderOutput(dataTable, element);\n",
              "          const docLink = document.createElement('div');\n",
              "          docLink.innerHTML = docLinkHtml;\n",
              "          element.appendChild(docLink);\n",
              "        }\n",
              "      </script>\n",
              "    </div>\n",
              "  </div>\n",
              "  "
            ],
            "text/plain": [
              "          sum      mean median   min   max       std      Q1     Q2      Q3\n",
              "          DH1       DH1    DH1   DH1   DH1       DH1     DH1    DH1     DH1\n",
              "KT KV                                                                      \n",
              "A  1    93.75  3.232759  3.250  1.00  6.50  1.345380  2.0000  3.250  4.2500\n",
              "   2    31.75  3.527778  3.500  2.00  6.25  1.346005  2.2500  3.500  4.2500\n",
              "   2NT  38.00  3.454545  3.500  2.00  4.75  0.871377  2.8750  3.500  4.1250\n",
              "A1 1     4.75  2.375000  2.375  2.00  2.75  0.375000  2.1875  2.375  2.5625\n",
              "   2NT  12.75  3.187500  3.250  2.00  4.25  0.797947  2.9375  3.250  3.5000\n",
              "B  1    25.75  3.218750  3.375  1.75  4.50  0.804650  3.0000  3.375  3.5625\n",
              "   2NT   3.75  3.750000  3.750  3.75  3.75  0.000000  3.7500  3.750  3.7500\n",
              "C  1    43.50  5.437500  5.250  4.75  7.00  0.681795  5.0000  5.250  5.4375\n",
              "   2    11.50  5.750000  5.750  5.00  6.50  0.750000  5.3750  5.750  6.1250\n",
              "   2NT  24.25  6.062500  6.000  5.25  7.00  0.817294  5.2500  6.000  6.8125\n",
              "D1 1    46.75  3.596154  3.500  1.50  5.75  1.215044  2.7500  3.500  4.2500\n",
              "   2    33.75  4.218750  4.500  1.25  6.75  1.512642  3.5625  4.500  5.0000\n",
              "   2NT   3.75  3.750000  3.750  3.75  3.75  0.000000  3.7500  3.750  3.7500"
            ]
          },
          "metadata": {},
          "execution_count": 9
        }
      ]
    },
    {
      "cell_type": "code",
      "source": [
        "# Phần 1:\n",
        "  # câu 5:\n",
        "pd.pivot_table(data=df, index=['KT','KV','DT'], values='DH1', aggfunc=['sum','mean','median','min','max', std, Q1, Q2, Q3])"
      ],
      "metadata": {
        "colab": {
          "base_uri": "https://localhost:8080/",
          "height": 614
        },
        "id": "Q2_TQTRtCes4",
        "outputId": "7dc016b4-3f3f-4e13-da79-9095768651ae"
      },
      "execution_count": 10,
      "outputs": [
        {
          "output_type": "execute_result",
          "data": {
            "text/html": [
              "\n",
              "  <div id=\"df-58006f89-147a-4871-821d-338f777a67f1\">\n",
              "    <div class=\"colab-df-container\">\n",
              "      <div>\n",
              "<style scoped>\n",
              "    .dataframe tbody tr th:only-of-type {\n",
              "        vertical-align: middle;\n",
              "    }\n",
              "\n",
              "    .dataframe tbody tr th {\n",
              "        vertical-align: top;\n",
              "    }\n",
              "\n",
              "    .dataframe thead tr th {\n",
              "        text-align: left;\n",
              "    }\n",
              "\n",
              "    .dataframe thead tr:last-of-type th {\n",
              "        text-align: right;\n",
              "    }\n",
              "</style>\n",
              "<table border=\"1\" class=\"dataframe\">\n",
              "  <thead>\n",
              "    <tr>\n",
              "      <th></th>\n",
              "      <th></th>\n",
              "      <th></th>\n",
              "      <th>sum</th>\n",
              "      <th>mean</th>\n",
              "      <th>median</th>\n",
              "      <th>min</th>\n",
              "      <th>max</th>\n",
              "      <th>std</th>\n",
              "      <th>Q1</th>\n",
              "      <th>Q2</th>\n",
              "      <th>Q3</th>\n",
              "    </tr>\n",
              "    <tr>\n",
              "      <th></th>\n",
              "      <th></th>\n",
              "      <th></th>\n",
              "      <th>DH1</th>\n",
              "      <th>DH1</th>\n",
              "      <th>DH1</th>\n",
              "      <th>DH1</th>\n",
              "      <th>DH1</th>\n",
              "      <th>DH1</th>\n",
              "      <th>DH1</th>\n",
              "      <th>DH1</th>\n",
              "      <th>DH1</th>\n",
              "    </tr>\n",
              "    <tr>\n",
              "      <th>KT</th>\n",
              "      <th>KV</th>\n",
              "      <th>DT</th>\n",
              "      <th></th>\n",
              "      <th></th>\n",
              "      <th></th>\n",
              "      <th></th>\n",
              "      <th></th>\n",
              "      <th></th>\n",
              "      <th></th>\n",
              "      <th></th>\n",
              "      <th></th>\n",
              "    </tr>\n",
              "  </thead>\n",
              "  <tbody>\n",
              "    <tr>\n",
              "      <th rowspan=\"4\" valign=\"top\">A</th>\n",
              "      <th>1</th>\n",
              "      <th>0.0</th>\n",
              "      <td>93.75</td>\n",
              "      <td>3.232759</td>\n",
              "      <td>3.250</td>\n",
              "      <td>1.00</td>\n",
              "      <td>6.50</td>\n",
              "      <td>1.345380</td>\n",
              "      <td>2.0000</td>\n",
              "      <td>3.250</td>\n",
              "      <td>4.2500</td>\n",
              "    </tr>\n",
              "    <tr>\n",
              "      <th rowspan=\"2\" valign=\"top\">2</th>\n",
              "      <th>0.0</th>\n",
              "      <td>27.50</td>\n",
              "      <td>3.437500</td>\n",
              "      <td>3.000</td>\n",
              "      <td>2.00</td>\n",
              "      <td>6.25</td>\n",
              "      <td>1.401729</td>\n",
              "      <td>2.2500</td>\n",
              "      <td>3.000</td>\n",
              "      <td>4.1875</td>\n",
              "    </tr>\n",
              "    <tr>\n",
              "      <th>6.0</th>\n",
              "      <td>4.25</td>\n",
              "      <td>4.250000</td>\n",
              "      <td>4.250</td>\n",
              "      <td>4.25</td>\n",
              "      <td>4.25</td>\n",
              "      <td>0.000000</td>\n",
              "      <td>4.2500</td>\n",
              "      <td>4.250</td>\n",
              "      <td>4.2500</td>\n",
              "    </tr>\n",
              "    <tr>\n",
              "      <th>2NT</th>\n",
              "      <th>0.0</th>\n",
              "      <td>38.00</td>\n",
              "      <td>3.454545</td>\n",
              "      <td>3.500</td>\n",
              "      <td>2.00</td>\n",
              "      <td>4.75</td>\n",
              "      <td>0.871377</td>\n",
              "      <td>2.8750</td>\n",
              "      <td>3.500</td>\n",
              "      <td>4.1250</td>\n",
              "    </tr>\n",
              "    <tr>\n",
              "      <th rowspan=\"2\" valign=\"top\">A1</th>\n",
              "      <th>1</th>\n",
              "      <th>0.0</th>\n",
              "      <td>4.75</td>\n",
              "      <td>2.375000</td>\n",
              "      <td>2.375</td>\n",
              "      <td>2.00</td>\n",
              "      <td>2.75</td>\n",
              "      <td>0.375000</td>\n",
              "      <td>2.1875</td>\n",
              "      <td>2.375</td>\n",
              "      <td>2.5625</td>\n",
              "    </tr>\n",
              "    <tr>\n",
              "      <th>2NT</th>\n",
              "      <th>0.0</th>\n",
              "      <td>12.75</td>\n",
              "      <td>3.187500</td>\n",
              "      <td>3.250</td>\n",
              "      <td>2.00</td>\n",
              "      <td>4.25</td>\n",
              "      <td>0.797947</td>\n",
              "      <td>2.9375</td>\n",
              "      <td>3.250</td>\n",
              "      <td>3.5000</td>\n",
              "    </tr>\n",
              "    <tr>\n",
              "      <th rowspan=\"2\" valign=\"top\">B</th>\n",
              "      <th>1</th>\n",
              "      <th>0.0</th>\n",
              "      <td>25.75</td>\n",
              "      <td>3.218750</td>\n",
              "      <td>3.375</td>\n",
              "      <td>1.75</td>\n",
              "      <td>4.50</td>\n",
              "      <td>0.804650</td>\n",
              "      <td>3.0000</td>\n",
              "      <td>3.375</td>\n",
              "      <td>3.5625</td>\n",
              "    </tr>\n",
              "    <tr>\n",
              "      <th>2NT</th>\n",
              "      <th>0.0</th>\n",
              "      <td>3.75</td>\n",
              "      <td>3.750000</td>\n",
              "      <td>3.750</td>\n",
              "      <td>3.75</td>\n",
              "      <td>3.75</td>\n",
              "      <td>0.000000</td>\n",
              "      <td>3.7500</td>\n",
              "      <td>3.750</td>\n",
              "      <td>3.7500</td>\n",
              "    </tr>\n",
              "    <tr>\n",
              "      <th rowspan=\"3\" valign=\"top\">C</th>\n",
              "      <th>1</th>\n",
              "      <th>0.0</th>\n",
              "      <td>43.50</td>\n",
              "      <td>5.437500</td>\n",
              "      <td>5.250</td>\n",
              "      <td>4.75</td>\n",
              "      <td>7.00</td>\n",
              "      <td>0.681795</td>\n",
              "      <td>5.0000</td>\n",
              "      <td>5.250</td>\n",
              "      <td>5.4375</td>\n",
              "    </tr>\n",
              "    <tr>\n",
              "      <th>2</th>\n",
              "      <th>0.0</th>\n",
              "      <td>11.50</td>\n",
              "      <td>5.750000</td>\n",
              "      <td>5.750</td>\n",
              "      <td>5.00</td>\n",
              "      <td>6.50</td>\n",
              "      <td>0.750000</td>\n",
              "      <td>5.3750</td>\n",
              "      <td>5.750</td>\n",
              "      <td>6.1250</td>\n",
              "    </tr>\n",
              "    <tr>\n",
              "      <th>2NT</th>\n",
              "      <th>0.0</th>\n",
              "      <td>24.25</td>\n",
              "      <td>6.062500</td>\n",
              "      <td>6.000</td>\n",
              "      <td>5.25</td>\n",
              "      <td>7.00</td>\n",
              "      <td>0.817294</td>\n",
              "      <td>5.2500</td>\n",
              "      <td>6.000</td>\n",
              "      <td>6.8125</td>\n",
              "    </tr>\n",
              "    <tr>\n",
              "      <th rowspan=\"5\" valign=\"top\">D1</th>\n",
              "      <th rowspan=\"2\" valign=\"top\">1</th>\n",
              "      <th>0.0</th>\n",
              "      <td>43.75</td>\n",
              "      <td>3.645833</td>\n",
              "      <td>3.625</td>\n",
              "      <td>1.50</td>\n",
              "      <td>5.75</td>\n",
              "      <td>1.251908</td>\n",
              "      <td>2.6875</td>\n",
              "      <td>3.625</td>\n",
              "      <td>4.4375</td>\n",
              "    </tr>\n",
              "    <tr>\n",
              "      <th>1.0</th>\n",
              "      <td>3.00</td>\n",
              "      <td>3.000000</td>\n",
              "      <td>3.000</td>\n",
              "      <td>3.00</td>\n",
              "      <td>3.00</td>\n",
              "      <td>0.000000</td>\n",
              "      <td>3.0000</td>\n",
              "      <td>3.000</td>\n",
              "      <td>3.0000</td>\n",
              "    </tr>\n",
              "    <tr>\n",
              "      <th rowspan=\"2\" valign=\"top\">2</th>\n",
              "      <th>0.0</th>\n",
              "      <td>32.50</td>\n",
              "      <td>4.642857</td>\n",
              "      <td>4.500</td>\n",
              "      <td>3.00</td>\n",
              "      <td>6.75</td>\n",
              "      <td>1.084445</td>\n",
              "      <td>4.1250</td>\n",
              "      <td>4.500</td>\n",
              "      <td>5.0000</td>\n",
              "    </tr>\n",
              "    <tr>\n",
              "      <th>1.0</th>\n",
              "      <td>1.25</td>\n",
              "      <td>1.250000</td>\n",
              "      <td>1.250</td>\n",
              "      <td>1.25</td>\n",
              "      <td>1.25</td>\n",
              "      <td>0.000000</td>\n",
              "      <td>1.2500</td>\n",
              "      <td>1.250</td>\n",
              "      <td>1.2500</td>\n",
              "    </tr>\n",
              "    <tr>\n",
              "      <th>2NT</th>\n",
              "      <th>0.0</th>\n",
              "      <td>3.75</td>\n",
              "      <td>3.750000</td>\n",
              "      <td>3.750</td>\n",
              "      <td>3.75</td>\n",
              "      <td>3.75</td>\n",
              "      <td>0.000000</td>\n",
              "      <td>3.7500</td>\n",
              "      <td>3.750</td>\n",
              "      <td>3.7500</td>\n",
              "    </tr>\n",
              "  </tbody>\n",
              "</table>\n",
              "</div>\n",
              "      <button class=\"colab-df-convert\" onclick=\"convertToInteractive('df-58006f89-147a-4871-821d-338f777a67f1')\"\n",
              "              title=\"Convert this dataframe to an interactive table.\"\n",
              "              style=\"display:none;\">\n",
              "        \n",
              "  <svg xmlns=\"http://www.w3.org/2000/svg\" height=\"24px\"viewBox=\"0 0 24 24\"\n",
              "       width=\"24px\">\n",
              "    <path d=\"M0 0h24v24H0V0z\" fill=\"none\"/>\n",
              "    <path d=\"M18.56 5.44l.94 2.06.94-2.06 2.06-.94-2.06-.94-.94-2.06-.94 2.06-2.06.94zm-11 1L8.5 8.5l.94-2.06 2.06-.94-2.06-.94L8.5 2.5l-.94 2.06-2.06.94zm10 10l.94 2.06.94-2.06 2.06-.94-2.06-.94-.94-2.06-.94 2.06-2.06.94z\"/><path d=\"M17.41 7.96l-1.37-1.37c-.4-.4-.92-.59-1.43-.59-.52 0-1.04.2-1.43.59L10.3 9.45l-7.72 7.72c-.78.78-.78 2.05 0 2.83L4 21.41c.39.39.9.59 1.41.59.51 0 1.02-.2 1.41-.59l7.78-7.78 2.81-2.81c.8-.78.8-2.07 0-2.86zM5.41 20L4 18.59l7.72-7.72 1.47 1.35L5.41 20z\"/>\n",
              "  </svg>\n",
              "      </button>\n",
              "      \n",
              "  <style>\n",
              "    .colab-df-container {\n",
              "      display:flex;\n",
              "      flex-wrap:wrap;\n",
              "      gap: 12px;\n",
              "    }\n",
              "\n",
              "    .colab-df-convert {\n",
              "      background-color: #E8F0FE;\n",
              "      border: none;\n",
              "      border-radius: 50%;\n",
              "      cursor: pointer;\n",
              "      display: none;\n",
              "      fill: #1967D2;\n",
              "      height: 32px;\n",
              "      padding: 0 0 0 0;\n",
              "      width: 32px;\n",
              "    }\n",
              "\n",
              "    .colab-df-convert:hover {\n",
              "      background-color: #E2EBFA;\n",
              "      box-shadow: 0px 1px 2px rgba(60, 64, 67, 0.3), 0px 1px 3px 1px rgba(60, 64, 67, 0.15);\n",
              "      fill: #174EA6;\n",
              "    }\n",
              "\n",
              "    [theme=dark] .colab-df-convert {\n",
              "      background-color: #3B4455;\n",
              "      fill: #D2E3FC;\n",
              "    }\n",
              "\n",
              "    [theme=dark] .colab-df-convert:hover {\n",
              "      background-color: #434B5C;\n",
              "      box-shadow: 0px 1px 3px 1px rgba(0, 0, 0, 0.15);\n",
              "      filter: drop-shadow(0px 1px 2px rgba(0, 0, 0, 0.3));\n",
              "      fill: #FFFFFF;\n",
              "    }\n",
              "  </style>\n",
              "\n",
              "      <script>\n",
              "        const buttonEl =\n",
              "          document.querySelector('#df-58006f89-147a-4871-821d-338f777a67f1 button.colab-df-convert');\n",
              "        buttonEl.style.display =\n",
              "          google.colab.kernel.accessAllowed ? 'block' : 'none';\n",
              "\n",
              "        async function convertToInteractive(key) {\n",
              "          const element = document.querySelector('#df-58006f89-147a-4871-821d-338f777a67f1');\n",
              "          const dataTable =\n",
              "            await google.colab.kernel.invokeFunction('convertToInteractive',\n",
              "                                                     [key], {});\n",
              "          if (!dataTable) return;\n",
              "\n",
              "          const docLinkHtml = 'Like what you see? Visit the ' +\n",
              "            '<a target=\"_blank\" href=https://colab.research.google.com/notebooks/data_table.ipynb>data table notebook</a>'\n",
              "            + ' to learn more about interactive tables.';\n",
              "          element.innerHTML = '';\n",
              "          dataTable['output_type'] = 'display_data';\n",
              "          await google.colab.output.renderOutput(dataTable, element);\n",
              "          const docLink = document.createElement('div');\n",
              "          docLink.innerHTML = docLinkHtml;\n",
              "          element.appendChild(docLink);\n",
              "        }\n",
              "      </script>\n",
              "    </div>\n",
              "  </div>\n",
              "  "
            ],
            "text/plain": [
              "              sum      mean median   min   max       std      Q1     Q2      Q3\n",
              "              DH1       DH1    DH1   DH1   DH1       DH1     DH1    DH1     DH1\n",
              "KT KV  DT                                                                      \n",
              "A  1   0.0  93.75  3.232759  3.250  1.00  6.50  1.345380  2.0000  3.250  4.2500\n",
              "   2   0.0  27.50  3.437500  3.000  2.00  6.25  1.401729  2.2500  3.000  4.1875\n",
              "       6.0   4.25  4.250000  4.250  4.25  4.25  0.000000  4.2500  4.250  4.2500\n",
              "   2NT 0.0  38.00  3.454545  3.500  2.00  4.75  0.871377  2.8750  3.500  4.1250\n",
              "A1 1   0.0   4.75  2.375000  2.375  2.00  2.75  0.375000  2.1875  2.375  2.5625\n",
              "   2NT 0.0  12.75  3.187500  3.250  2.00  4.25  0.797947  2.9375  3.250  3.5000\n",
              "B  1   0.0  25.75  3.218750  3.375  1.75  4.50  0.804650  3.0000  3.375  3.5625\n",
              "   2NT 0.0   3.75  3.750000  3.750  3.75  3.75  0.000000  3.7500  3.750  3.7500\n",
              "C  1   0.0  43.50  5.437500  5.250  4.75  7.00  0.681795  5.0000  5.250  5.4375\n",
              "   2   0.0  11.50  5.750000  5.750  5.00  6.50  0.750000  5.3750  5.750  6.1250\n",
              "   2NT 0.0  24.25  6.062500  6.000  5.25  7.00  0.817294  5.2500  6.000  6.8125\n",
              "D1 1   0.0  43.75  3.645833  3.625  1.50  5.75  1.251908  2.6875  3.625  4.4375\n",
              "       1.0   3.00  3.000000  3.000  3.00  3.00  0.000000  3.0000  3.000  3.0000\n",
              "   2   0.0  32.50  4.642857  4.500  3.00  6.75  1.084445  4.1250  4.500  5.0000\n",
              "       1.0   1.25  1.250000  1.250  1.25  1.25  0.000000  1.2500  1.250  1.2500\n",
              "   2NT 0.0   3.75  3.750000  3.750  3.75  3.75  0.000000  3.7500  3.750  3.7500"
            ]
          },
          "metadata": {},
          "execution_count": 10
        }
      ]
    },
    {
      "cell_type": "code",
      "source": [
        "# Phần 2:\n",
        "  # câu 1:\n",
        "gt = df.groupby('GT')['GT'].agg('count')\n",
        "\n",
        "print(gt)\n",
        "print('Biểu đồ cột:')\n",
        "gt.plot.bar()\n",
        "\n"
      ],
      "metadata": {
        "colab": {
          "base_uri": "https://localhost:8080/",
          "height": 382
        },
        "id": "Pnsv5Pa_CjgM",
        "outputId": "b5237f25-0109-43f1-bcbd-fe0e4cb5fefc"
      },
      "execution_count": 11,
      "outputs": [
        {
          "output_type": "stream",
          "name": "stdout",
          "text": [
            "GT\n",
            "F    48\n",
            "M    52\n",
            "Name: GT, dtype: int64\n",
            "Biểu đồ cột:\n"
          ]
        },
        {
          "output_type": "execute_result",
          "data": {
            "text/plain": [
              "<matplotlib.axes._subplots.AxesSubplot at 0x7f9d54dcf210>"
            ]
          },
          "metadata": {},
          "execution_count": 11
        },
        {
          "output_type": "display_data",
          "data": {
            "image/png": "[encoded data removed]",
            "text/plain": [
              "<Figure size 432x288 with 1 Axes>"
            ]
          },
          "metadata": {
            "needs_background": "light"
          }
        }
      ]
    },
    {
      "cell_type": "code",
      "source": [
        "print('Biểu đồ tròn:')\n",
        "gt.plot.pie()"
      ],
      "metadata": {
        "colab": {
          "base_uri": "https://localhost:8080/",
          "height": 282
        },
        "id": "59AvjYnJE1py",
        "outputId": "b9c1606a-eb63-4b8d-ba01-a50984ac044b"
      },
      "execution_count": 12,
      "outputs": [
        {
          "output_type": "stream",
          "name": "stdout",
          "text": [
            "Biểu đồ tròn:\n"
          ]
        },
        {
          "output_type": "execute_result",
          "data": {
            "text/plain": [
              "<matplotlib.axes._subplots.AxesSubplot at 0x7f9d54d12990>"
            ]
          },
          "metadata": {},
          "execution_count": 12
        },
        {
          "output_type": "display_data",
          "data": {
            "image/png": "[encoded data removed]",
            "text/plain": [
              "<Figure size 432x288 with 1 Axes>"
            ]
          },
          "metadata": {}
        }
      ]
    },
    {
      "cell_type": "code",
      "source": [
        "gt.hist()"
      ],
      "metadata": {
        "colab": {
          "base_uri": "https://localhost:8080/",
          "height": 282
        },
        "id": "eQaQ722SFXBG",
        "outputId": "72d09e96-8679-4d1d-ff20-6cb2b2abb70a"
      },
      "execution_count": 13,
      "outputs": [
        {
          "output_type": "execute_result",
          "data": {
            "text/plain": [
              "<matplotlib.axes._subplots.AxesSubplot at 0x7f9d54d11b90>"
            ]
          },
          "metadata": {},
          "execution_count": 13
        },
        {
          "output_type": "display_data",
          "data": {
            "image/png": "[encoded data removed]",
            "text/plain": [
              "<Figure size 432x288 with 1 Axes>"
            ]
          },
          "metadata": {
            "needs_background": "light"
          }
        }
      ]
    },
    {
      "cell_type": "code",
      "source": [
        "# Phần 2:\n",
        "  # câu 1:\n",
        "cau22 = pd.DataFrame(df,columns = ['US_TBM1','US_TBM2','US_TBM3'])\n",
        "cau22.describe()"
      ],
      "metadata": {
        "colab": {
          "base_uri": "https://localhost:8080/",
          "height": 300
        },
        "id": "lyJeUcO2G-Tw",
        "outputId": "17e1c764-42cc-48a7-e3f5-7eac223a6fd6"
      },
      "execution_count": 14,
      "outputs": [
        {
          "output_type": "execute_result",
          "data": {
            "text/html": [
              "\n",
              "  <div id=\"df-f11a473d-a449-4d50-81b9-36179a34c1f8\">\n",
              "    <div class=\"colab-df-container\">\n",
              "      <div>\n",
              "<style scoped>\n",
              "    .dataframe tbody tr th:only-of-type {\n",
              "        vertical-align: middle;\n",
              "    }\n",
              "\n",
              "    .dataframe tbody tr th {\n",
              "        vertical-align: top;\n",
              "    }\n",
              "\n",
              "    .dataframe thead th {\n",
              "        text-align: right;\n",
              "    }\n",
              "</style>\n",
              "<table border=\"1\" class=\"dataframe\">\n",
              "  <thead>\n",
              "    <tr style=\"text-align: right;\">\n",
              "      <th></th>\n",
              "      <th>US_TBM1</th>\n",
              "      <th>US_TBM2</th>\n",
              "      <th>US_TBM3</th>\n",
              "    </tr>\n",
              "  </thead>\n",
              "  <tbody>\n",
              "    <tr>\n",
              "      <th>count</th>\n",
              "      <td>100.000000</td>\n",
              "      <td>100.000000</td>\n",
              "      <td>100.00000</td>\n",
              "    </tr>\n",
              "    <tr>\n",
              "      <th>mean</th>\n",
              "      <td>2.434480</td>\n",
              "      <td>2.559600</td>\n",
              "      <td>2.67176</td>\n",
              "    </tr>\n",
              "    <tr>\n",
              "      <th>std</th>\n",
              "      <td>0.391203</td>\n",
              "      <td>0.377656</td>\n",
              "      <td>0.29981</td>\n",
              "    </tr>\n",
              "    <tr>\n",
              "      <th>min</th>\n",
              "      <td>1.616000</td>\n",
              "      <td>1.768000</td>\n",
              "      <td>1.91600</td>\n",
              "    </tr>\n",
              "    <tr>\n",
              "      <th>25%</th>\n",
              "      <td>2.107000</td>\n",
              "      <td>2.223000</td>\n",
              "      <td>2.47300</td>\n",
              "    </tr>\n",
              "    <tr>\n",
              "      <th>50%</th>\n",
              "      <td>2.480000</td>\n",
              "      <td>2.588000</td>\n",
              "      <td>2.70600</td>\n",
              "    </tr>\n",
              "    <tr>\n",
              "      <th>75%</th>\n",
              "      <td>2.724000</td>\n",
              "      <td>2.893000</td>\n",
              "      <td>2.87400</td>\n",
              "    </tr>\n",
              "    <tr>\n",
              "      <th>max</th>\n",
              "      <td>3.232000</td>\n",
              "      <td>3.416000</td>\n",
              "      <td>3.31600</td>\n",
              "    </tr>\n",
              "  </tbody>\n",
              "</table>\n",
              "</div>\n",
              "      <button class=\"colab-df-convert\" onclick=\"convertToInteractive('df-f11a473d-a449-4d50-81b9-36179a34c1f8')\"\n",
              "              title=\"Convert this dataframe to an interactive table.\"\n",
              "              style=\"display:none;\">\n",
              "        \n",
              "  <svg xmlns=\"http://www.w3.org/2000/svg\" height=\"24px\"viewBox=\"0 0 24 24\"\n",
              "       width=\"24px\">\n",
              "    <path d=\"M0 0h24v24H0V0z\" fill=\"none\"/>\n",
              "    <path d=\"M18.56 5.44l.94 2.06.94-2.06 2.06-.94-2.06-.94-.94-2.06-.94 2.06-2.06.94zm-11 1L8.5 8.5l.94-2.06 2.06-.94-2.06-.94L8.5 2.5l-.94 2.06-2.06.94zm10 10l.94 2.06.94-2.06 2.06-.94-2.06-.94-.94-2.06-.94 2.06-2.06.94z\"/><path d=\"M17.41 7.96l-1.37-1.37c-.4-.4-.92-.59-1.43-.59-.52 0-1.04.2-1.43.59L10.3 9.45l-7.72 7.72c-.78.78-.78 2.05 0 2.83L4 21.41c.39.39.9.59 1.41.59.51 0 1.02-.2 1.41-.59l7.78-7.78 2.81-2.81c.8-.78.8-2.07 0-2.86zM5.41 20L4 18.59l7.72-7.72 1.47 1.35L5.41 20z\"/>\n",
              "  </svg>\n",
              "      </button>\n",
              "      \n",
              "  <style>\n",
              "    .colab-df-container {\n",
              "      display:flex;\n",
              "      flex-wrap:wrap;\n",
              "      gap: 12px;\n",
              "    }\n",
              "\n",
              "    .colab-df-convert {\n",
              "      background-color: #E8F0FE;\n",
              "      border: none;\n",
              "      border-radius: 50%;\n",
              "      cursor: pointer;\n",
              "      display: none;\n",
              "      fill: #1967D2;\n",
              "      height: 32px;\n",
              "      padding: 0 0 0 0;\n",
              "      width: 32px;\n",
              "    }\n",
              "\n",
              "    .colab-df-convert:hover {\n",
              "      background-color: #E2EBFA;\n",
              "      box-shadow: 0px 1px 2px rgba(60, 64, 67, 0.3), 0px 1px 3px 1px rgba(60, 64, 67, 0.15);\n",
              "      fill: #174EA6;\n",
              "    }\n",
              "\n",
              "    [theme=dark] .colab-df-convert {\n",
              "      background-color: #3B4455;\n",
              "      fill: #D2E3FC;\n",
              "    }\n",
              "\n",
              "    [theme=dark] .colab-df-convert:hover {\n",
              "      background-color: #434B5C;\n",
              "      box-shadow: 0px 1px 3px 1px rgba(0, 0, 0, 0.15);\n",
              "      filter: drop-shadow(0px 1px 2px rgba(0, 0, 0, 0.3));\n",
              "      fill: #FFFFFF;\n",
              "    }\n",
              "  </style>\n",
              "\n",
              "      <script>\n",
              "        const buttonEl =\n",
              "          document.querySelector('#df-f11a473d-a449-4d50-81b9-36179a34c1f8 button.colab-df-convert');\n",
              "        buttonEl.style.display =\n",
              "          google.colab.kernel.accessAllowed ? 'block' : 'none';\n",
              "\n",
              "        async function convertToInteractive(key) {\n",
              "          const element = document.querySelector('#df-f11a473d-a449-4d50-81b9-36179a34c1f8');\n",
              "          const dataTable =\n",
              "            await google.colab.kernel.invokeFunction('convertToInteractive',\n",
              "                                                     [key], {});\n",
              "          if (!dataTable) return;\n",
              "\n",
              "          const docLinkHtml = 'Like what you see? Visit the ' +\n",
              "            '<a target=\"_blank\" href=https://colab.research.google.com/notebooks/data_table.ipynb>data table notebook</a>'\n",
              "            + ' to learn more about interactive tables.';\n",
              "          element.innerHTML = '';\n",
              "          dataTable['output_type'] = 'display_data';\n",
              "          await google.colab.output.renderOutput(dataTable, element);\n",
              "          const docLink = document.createElement('div');\n",
              "          docLink.innerHTML = docLinkHtml;\n",
              "          element.appendChild(docLink);\n",
              "        }\n",
              "      </script>\n",
              "    </div>\n",
              "  </div>\n",
              "  "
            ],
            "text/plain": [
              "          US_TBM1     US_TBM2    US_TBM3\n",
              "count  100.000000  100.000000  100.00000\n",
              "mean     2.434480    2.559600    2.67176\n",
              "std      0.391203    0.377656    0.29981\n",
              "min      1.616000    1.768000    1.91600\n",
              "25%      2.107000    2.223000    2.47300\n",
              "50%      2.480000    2.588000    2.70600\n",
              "75%      2.724000    2.893000    2.87400\n",
              "max      3.232000    3.416000    3.31600"
            ]
          },
          "metadata": {},
          "execution_count": 14
        }
      ]
    },
    {
      "cell_type": "code",
      "source": [
        "df['US_TBM1'].plot.bar()\n"
      ],
      "metadata": {
        "colab": {
          "base_uri": "https://localhost:8080/",
          "height": 286
        },
        "id": "l4hbSxM7Hhnh",
        "outputId": "4a1d1598-7d7a-4c54-9ba4-0b143316057a"
      },
      "execution_count": 15,
      "outputs": [
        {
          "output_type": "execute_result",
          "data": {
            "text/plain": [
              "<matplotlib.axes._subplots.AxesSubplot at 0x7f9d547dc410>"
            ]
          },
          "metadata": {},
          "execution_count": 15
        },
        {
          "output_type": "display_data",
          "data": {
            "image/png": "[encoded data removed]",
            "text/plain": [
              "<Figure size 432x288 with 1 Axes>"
            ]
          },
          "metadata": {
            "needs_background": "light"
          }
        }
      ]
    },
    {
      "cell_type": "code",
      "source": [
        "df['US_TBM1'].plot.pie()"
      ],
      "metadata": {
        "colab": {
          "base_uri": "https://localhost:8080/",
          "height": 266
        },
        "id": "_JzyHjqkHwzd",
        "outputId": "1d097708-5461-4b82-fa71-0dfd038be06e"
      },
      "execution_count": 16,
      "outputs": [
        {
          "output_type": "execute_result",
          "data": {
            "text/plain": [
              "<matplotlib.axes._subplots.AxesSubplot at 0x7f9d544bcc90>"
            ]
          },
          "metadata": {},
          "execution_count": 16
        },
        {
          "output_type": "display_data",
          "data": {
            "image/png": "[encoded data removed]",
            "text/plain": [
              "<Figure size 432x288 with 1 Axes>"
            ]
          },
          "metadata": {}
        }
      ]
    },
    {
      "cell_type": "code",
      "source": [
        "df['US_TBM1'].hist()"
      ],
      "metadata": {
        "colab": {
          "base_uri": "https://localhost:8080/",
          "height": 282
        },
        "id": "_j6RBzUcH06J",
        "outputId": "e9c533d9-c4dd-428c-da2a-645288670441"
      },
      "execution_count": 17,
      "outputs": [
        {
          "output_type": "execute_result",
          "data": {
            "text/plain": [
              "<matplotlib.axes._subplots.AxesSubplot at 0x7f9d542e51d0>"
            ]
          },
          "metadata": {},
          "execution_count": 17
        },
        {
          "output_type": "display_data",
          "data": {
            "image/png": "[encoded data removed]",
            "text/plain": [
              "<Figure size 432x288 with 1 Axes>"
            ]
          },
          "metadata": {
            "needs_background": "light"
          }
        }
      ]
    },
    {
      "cell_type": "code",
      "source": [
        "df['US_TBM2'].plot.bar()"
      ],
      "metadata": {
        "colab": {
          "base_uri": "https://localhost:8080/",
          "height": 286
        },
        "id": "XhFgvxxAH4Mz",
        "outputId": "fb2d3e44-edec-4be4-b564-f486e9fd4568"
      },
      "execution_count": 18,
      "outputs": [
        {
          "output_type": "execute_result",
          "data": {
            "text/plain": [
              "<matplotlib.axes._subplots.AxesSubplot at 0x7f9d53242090>"
            ]
          },
          "metadata": {},
          "execution_count": 18
        },
        {
          "output_type": "display_data",
          "data": {
            "image/png": "[encoded data removed]",
            "text/plain": [
              "<Figure size 432x288 with 1 Axes>"
            ]
          },
          "metadata": {
            "needs_background": "light"
          }
        }
      ]
    },
    {
      "cell_type": "code",
      "source": [
        "df['US_TBM2'].plot.pie()"
      ],
      "metadata": {
        "colab": {
          "base_uri": "https://localhost:8080/",
          "height": 266
        },
        "id": "XP1i1YPOH6zV",
        "outputId": "283140de-6f62-4485-b4ef-e690af967d32"
      },
      "execution_count": 19,
      "outputs": [
        {
          "output_type": "execute_result",
          "data": {
            "text/plain": [
              "<matplotlib.axes._subplots.AxesSubplot at 0x7f9d54528650>"
            ]
          },
          "metadata": {},
          "execution_count": 19
        },
        {
          "output_type": "display_data",
          "data": {
            "image/png": "[encoded data removed]",
            "text/plain": [
              "<Figure size 432x288 with 1 Axes>"
            ]
          },
          "metadata": {}
        }
      ]
    },
    {
      "cell_type": "code",
      "source": [
        "df['US_TBM2'].hist()"
      ],
      "metadata": {
        "colab": {
          "base_uri": "https://localhost:8080/",
          "height": 282
        },
        "id": "UkWOk0GRIFAN",
        "outputId": "342606da-c5b8-4222-89f8-7bb4cf69ea3c"
      },
      "execution_count": 20,
      "outputs": [
        {
          "output_type": "execute_result",
          "data": {
            "text/plain": [
              "<matplotlib.axes._subplots.AxesSubplot at 0x7f9d52df0350>"
            ]
          },
          "metadata": {},
          "execution_count": 20
        },
        {
          "output_type": "display_data",
          "data": {
            "image/png": "[encoded data removed]",
            "text/plain": [
              "<Figure size 432x288 with 1 Axes>"
            ]
          },
          "metadata": {
            "needs_background": "light"
          }
        }
      ]
    },
    {
      "cell_type": "code",
      "source": [
        "df['US_TBM3'].plot.bar()"
      ],
      "metadata": {
        "colab": {
          "base_uri": "https://localhost:8080/",
          "height": 286
        },
        "id": "JCTlSzqMIIEG",
        "outputId": "b20b1457-d55f-4df6-a59e-c1ac1434a47d"
      },
      "execution_count": 21,
      "outputs": [
        {
          "output_type": "execute_result",
          "data": {
            "text/plain": [
              "<matplotlib.axes._subplots.AxesSubplot at 0x7f9d52d4b8d0>"
            ]
          },
          "metadata": {},
          "execution_count": 21
        },
        {
          "output_type": "display_data",
          "data": {
            "image/png": "[encoded data removed]",
            "text/plain": [
              "<Figure size 432x288 with 1 Axes>"
            ]
          },
          "metadata": {
            "needs_background": "light"
          }
        }
      ]
    },
    {
      "cell_type": "code",
      "source": [
        "df['US_TBM3'].plot.pie()"
      ],
      "metadata": {
        "colab": {
          "base_uri": "https://localhost:8080/",
          "height": 266
        },
        "id": "lmSRMwvoIQqH",
        "outputId": "fa9380da-0be5-4c72-e9f2-295d4f670238"
      },
      "execution_count": 22,
      "outputs": [
        {
          "output_type": "execute_result",
          "data": {
            "text/plain": [
              "<matplotlib.axes._subplots.AxesSubplot at 0x7f9d52aedbd0>"
            ]
          },
          "metadata": {},
          "execution_count": 22
        },
        {
          "output_type": "display_data",
          "data": {
            "image/png": "[encoded data removed]",
            "text/plain": [
              "<Figure size 432x288 with 1 Axes>"
            ]
          },
          "metadata": {}
        }
      ]
    },
    {
      "cell_type": "code",
      "source": [
        "df['US_TBM3'].hist()"
      ],
      "metadata": {
        "colab": {
          "base_uri": "https://localhost:8080/",
          "height": 282
        },
        "id": "8k0AgmxVISxT",
        "outputId": "432a1360-1d1d-45cc-cbda-d9b793372086"
      },
      "execution_count": 23,
      "outputs": [
        {
          "output_type": "execute_result",
          "data": {
            "text/plain": [
              "<matplotlib.axes._subplots.AxesSubplot at 0x7f9d52aaef90>"
            ]
          },
          "metadata": {},
          "execution_count": 23
        },
        {
          "output_type": "display_data",
          "data": {
            "image/png": "[encoded data removed]",
            "text/plain": [
              "<Figure size 432x288 with 1 Axes>"
            ]
          },
          "metadata": {
            "needs_background": "light"
          }
        }
      ]
    },
    {
      "cell_type": "code",
      "source": [
        "# Phần 2:\n",
        "  # câu 2:\n",
        "cd = df[df['GT']=='M']\n",
        "cd.groupby('DT')['DT'].agg('count')"
      ],
      "metadata": {
        "colab": {
          "base_uri": "https://localhost:8080/"
        },
        "id": "7pCv4e5GIVQY",
        "outputId": "93e3846f-afdc-404e-e224-df8d5b649298"
      },
      "execution_count": 24,
      "outputs": [
        {
          "output_type": "execute_result",
          "data": {
            "text/plain": [
              "DT\n",
              "0.0    50\n",
              "1.0     1\n",
              "6.0     1\n",
              "Name: DT, dtype: int64"
            ]
          },
          "metadata": {},
          "execution_count": 24
        }
      ]
    },
    {
      "cell_type": "code",
      "source": [
        "df.loc[(df['GT']=='M'),'DT'].hist()"
      ],
      "metadata": {
        "colab": {
          "base_uri": "https://localhost:8080/",
          "height": 282
        },
        "id": "cAqoRb2jJHCd",
        "outputId": "02516971-39c9-4406-cb66-820cda1b8d72"
      },
      "execution_count": 25,
      "outputs": [
        {
          "output_type": "execute_result",
          "data": {
            "text/plain": [
              "<matplotlib.axes._subplots.AxesSubplot at 0x7f9d52850b50>"
            ]
          },
          "metadata": {},
          "execution_count": 25
        },
        {
          "output_type": "display_data",
          "data": {
            "image/png": "[encoded data removed]",
            "text/plain": [
              "<Figure size 432x288 with 1 Axes>"
            ]
          },
          "metadata": {
            "needs_background": "light"
          }
        }
      ]
    },
    {
      "cell_type": "code",
      "source": [
        "# Phần 2:\n",
        "  # câu 3:\n",
        "df['DT'].fillna(0.0 , inplace = False)\n"
      ],
      "metadata": {
        "colab": {
          "base_uri": "https://localhost:8080/"
        },
        "id": "D0mxuROoRbxN",
        "outputId": "38688c5a-6d1a-4c35-804d-673fcf7c0805"
      },
      "execution_count": 26,
      "outputs": [
        {
          "output_type": "execute_result",
          "data": {
            "text/plain": [
              "0     0.0\n",
              "1     0.0\n",
              "2     0.0\n",
              "3     0.0\n",
              "4     0.0\n",
              "     ... \n",
              "95    0.0\n",
              "96    0.0\n",
              "97    0.0\n",
              "98    0.0\n",
              "99    0.0\n",
              "Name: DT, Length: 100, dtype: float64"
            ]
          },
          "metadata": {},
          "execution_count": 26
        }
      ]
    },
    {
      "cell_type": "code",
      "source": [
        "df['KV'].fillna( 1 , inplace = False)"
      ],
      "metadata": {
        "colab": {
          "base_uri": "https://localhost:8080/"
        },
        "id": "dpGdtmE9TAaG",
        "outputId": "fc4a4d74-638f-4b84-f08a-4ea2240a8041"
      },
      "execution_count": 27,
      "outputs": [
        {
          "output_type": "execute_result",
          "data": {
            "text/plain": [
              "0     2NT\n",
              "1       1\n",
              "2       1\n",
              "3       1\n",
              "4     2NT\n",
              "     ... \n",
              "95      1\n",
              "96      1\n",
              "97    2NT\n",
              "98      1\n",
              "99    2NT\n",
              "Name: KV, Length: 100, dtype: object"
            ]
          },
          "metadata": {},
          "execution_count": 27
        }
      ]
    },
    {
      "cell_type": "code",
      "source": [
        "#cau3 = df.loc[( (df['GT']=='M') & (df['DH1'] >= 5)  & (df['DH2'] >= 4) & (df['DH3'] >= 3) ),'KV']\n",
        "#print(cau3)"
      ],
      "metadata": {
        "colab": {
          "base_uri": "https://localhost:8080/"
        },
        "id": "PJTjw9aDTOpx",
        "outputId": "56e4dbc1-7f63-45f8-991f-b79bdaa6ac74"
      },
      "execution_count": 28,
      "outputs": [
        {
          "output_type": "stream",
          "name": "stdout",
          "text": [
            "1       1\n",
            "2       1\n",
            "11      2\n",
            "23    2NT\n",
            "84      1\n",
            "90      2\n",
            "97    2NT\n",
            "Name: KV, dtype: object\n"
          ]
        }
      ]
    },
    {
      "cell_type": "code",
      "source": [
        "cd3 = df[df['GT']=='M']\n",
        "cd3.groupby('KV')['KV'].agg('count')\n",
        "\n"
      ],
      "metadata": {
        "colab": {
          "base_uri": "https://localhost:8080/"
        },
        "id": "rjkoGR8N5Mqc",
        "outputId": "20d69747-f0b2-4d36-8707-9e073dcdedee"
      },
      "execution_count": 35,
      "outputs": [
        {
          "output_type": "execute_result",
          "data": {
            "text/plain": [
              "KV\n",
              "1      36\n",
              "2       6\n",
              "2NT    10\n",
              "Name: KV, dtype: int64"
            ]
          },
          "metadata": {},
          "execution_count": 35
        }
      ]
    },
    {
      "cell_type": "code",
      "source": [
        "df.loc[( (df['GT']=='M') & (df['DH1'] >= 5)  & (df['DH2'] >= 4) & (df['DH3'] >= 3) ),'KV'].hist()"
      ],
      "metadata": {
        "colab": {
          "base_uri": "https://localhost:8080/",
          "height": 282
        },
        "id": "fwlXk-357B_l",
        "outputId": "18f6365b-651d-4e58-c169-df7454bc9f89"
      },
      "execution_count": 38,
      "outputs": [
        {
          "output_type": "execute_result",
          "data": {
            "text/plain": [
              "<matplotlib.axes._subplots.AxesSubplot at 0x7f9d525925d0>"
            ]
          },
          "metadata": {},
          "execution_count": 38
        },
        {
          "output_type": "display_data",
          "data": {
            "image/png": "[encoded data removed]",
            "text/plain": [
              "<Figure size 432x288 with 1 Axes>"
            ]
          },
          "metadata": {
            "needs_background": "light"
          }
        }
      ]
    },
    {
      "cell_type": "code",
      "source": [
        "#cau3.hist()"
      ],
      "metadata": {
        "colab": {
          "base_uri": "https://localhost:8080/",
          "height": 282
        },
        "id": "N77y1EFIUm-i",
        "outputId": "9769ba9d-6bb2-42ef-c51f-a6e7c85e1d47"
      },
      "execution_count": 29,
      "outputs": [
        {
          "output_type": "execute_result",
          "data": {
            "text/plain": [
              "<matplotlib.axes._subplots.AxesSubplot at 0x7f9d527e5690>"
            ]
          },
          "metadata": {},
          "execution_count": 29
        },
        {
          "output_type": "display_data",
          "data": {
            "image/png": "[encoded data removed]",
            "text/plain": [
              "<Figure size 432x288 with 1 Axes>"
            ]
          },
          "metadata": {
            "needs_background": "light"
          }
        }
      ]
    },
    {
      "cell_type": "code",
      "source": [
        "cau3.describe()"
      ],
      "metadata": {
        "colab": {
          "base_uri": "https://localhost:8080/"
        },
        "id": "EvWN77xIVDHW",
        "outputId": "39c88795-e53e-4c9d-b3cf-16e295024b6b"
      },
      "execution_count": 30,
      "outputs": [
        {
          "output_type": "execute_result",
          "data": {
            "text/plain": [
              "count     7\n",
              "unique    3\n",
              "top       1\n",
              "freq      3\n",
              "Name: KV, dtype: object"
            ]
          },
          "metadata": {},
          "execution_count": 30
        }
      ]
    },
    {
      "cell_type": "code",
      "source": [
        "# Phần 2:\n",
        "  # câu 4:\n",
        "\n",
        "cau4 = pd.DataFrame(df , columns = ['DH1','DH2','DH3','KV'])\n",
        "cau4_r = cau4.loc[( (cau4['DH1']>=5) & (cau4['DH2']>=5) & (cau4['DH3']>=5) & (cau4['KV']=='2NT')  ), ['DH1','DH2','DH3','KV'] ]\n",
        "\n",
        "cau4_r\n",
        "\n",
        "\n",
        "\n",
        "\n"
      ],
      "metadata": {
        "colab": {
          "base_uri": "https://localhost:8080/",
          "height": 81
        },
        "id": "3kjaZWQcU8NQ",
        "outputId": "2086a3bc-23c2-4aeb-82c5-857eaeb0ca98"
      },
      "execution_count": 31,
      "outputs": [
        {
          "output_type": "execute_result",
          "data": {
            "text/html": [
              "\n",
              "  <div id=\"df-9b3b3550-66f0-4fd5-867a-12ec00d84447\">\n",
              "    <div class=\"colab-df-container\">\n",
              "      <div>\n",
              "<style scoped>\n",
              "    .dataframe tbody tr th:only-of-type {\n",
              "        vertical-align: middle;\n",
              "    }\n",
              "\n",
              "    .dataframe tbody tr th {\n",
              "        vertical-align: top;\n",
              "    }\n",
              "\n",
              "    .dataframe thead th {\n",
              "        text-align: right;\n",
              "    }\n",
              "</style>\n",
              "<table border=\"1\" class=\"dataframe\">\n",
              "  <thead>\n",
              "    <tr style=\"text-align: right;\">\n",
              "      <th></th>\n",
              "      <th>DH1</th>\n",
              "      <th>DH2</th>\n",
              "      <th>DH3</th>\n",
              "      <th>KV</th>\n",
              "    </tr>\n",
              "  </thead>\n",
              "  <tbody>\n",
              "    <tr>\n",
              "      <th>23</th>\n",
              "      <td>6.75</td>\n",
              "      <td>5.25</td>\n",
              "      <td>5.0</td>\n",
              "      <td>2NT</td>\n",
              "    </tr>\n",
              "  </tbody>\n",
              "</table>\n",
              "</div>\n",
              "      <button class=\"colab-df-convert\" onclick=\"convertToInteractive('df-9b3b3550-66f0-4fd5-867a-12ec00d84447')\"\n",
              "              title=\"Convert this dataframe to an interactive table.\"\n",
              "              style=\"display:none;\">\n",
              "        \n",
              "  <svg xmlns=\"http://www.w3.org/2000/svg\" height=\"24px\"viewBox=\"0 0 24 24\"\n",
              "       width=\"24px\">\n",
              "    <path d=\"M0 0h24v24H0V0z\" fill=\"none\"/>\n",
              "    <path d=\"M18.56 5.44l.94 2.06.94-2.06 2.06-.94-2.06-.94-.94-2.06-.94 2.06-2.06.94zm-11 1L8.5 8.5l.94-2.06 2.06-.94-2.06-.94L8.5 2.5l-.94 2.06-2.06.94zm10 10l.94 2.06.94-2.06 2.06-.94-2.06-.94-.94-2.06-.94 2.06-2.06.94z\"/><path d=\"M17.41 7.96l-1.37-1.37c-.4-.4-.92-.59-1.43-.59-.52 0-1.04.2-1.43.59L10.3 9.45l-7.72 7.72c-.78.78-.78 2.05 0 2.83L4 21.41c.39.39.9.59 1.41.59.51 0 1.02-.2 1.41-.59l7.78-7.78 2.81-2.81c.8-.78.8-2.07 0-2.86zM5.41 20L4 18.59l7.72-7.72 1.47 1.35L5.41 20z\"/>\n",
              "  </svg>\n",
              "      </button>\n",
              "      \n",
              "  <style>\n",
              "    .colab-df-container {\n",
              "      display:flex;\n",
              "      flex-wrap:wrap;\n",
              "      gap: 12px;\n",
              "    }\n",
              "\n",
              "    .colab-df-convert {\n",
              "      background-color: #E8F0FE;\n",
              "      border: none;\n",
              "      border-radius: 50%;\n",
              "      cursor: pointer;\n",
              "      display: none;\n",
              "      fill: #1967D2;\n",
              "      height: 32px;\n",
              "      padding: 0 0 0 0;\n",
              "      width: 32px;\n",
              "    }\n",
              "\n",
              "    .colab-df-convert:hover {\n",
              "      background-color: #E2EBFA;\n",
              "      box-shadow: 0px 1px 2px rgba(60, 64, 67, 0.3), 0px 1px 3px 1px rgba(60, 64, 67, 0.15);\n",
              "      fill: #174EA6;\n",
              "    }\n",
              "\n",
              "    [theme=dark] .colab-df-convert {\n",
              "      background-color: #3B4455;\n",
              "      fill: #D2E3FC;\n",
              "    }\n",
              "\n",
              "    [theme=dark] .colab-df-convert:hover {\n",
              "      background-color: #434B5C;\n",
              "      box-shadow: 0px 1px 3px 1px rgba(0, 0, 0, 0.15);\n",
              "      filter: drop-shadow(0px 1px 2px rgba(0, 0, 0, 0.3));\n",
              "      fill: #FFFFFF;\n",
              "    }\n",
              "  </style>\n",
              "\n",
              "      <script>\n",
              "        const buttonEl =\n",
              "          document.querySelector('#df-9b3b3550-66f0-4fd5-867a-12ec00d84447 button.colab-df-convert');\n",
              "        buttonEl.style.display =\n",
              "          google.colab.kernel.accessAllowed ? 'block' : 'none';\n",
              "\n",
              "        async function convertToInteractive(key) {\n",
              "          const element = document.querySelector('#df-9b3b3550-66f0-4fd5-867a-12ec00d84447');\n",
              "          const dataTable =\n",
              "            await google.colab.kernel.invokeFunction('convertToInteractive',\n",
              "                                                     [key], {});\n",
              "          if (!dataTable) return;\n",
              "\n",
              "          const docLinkHtml = 'Like what you see? Visit the ' +\n",
              "            '<a target=\"_blank\" href=https://colab.research.google.com/notebooks/data_table.ipynb>data table notebook</a>'\n",
              "            + ' to learn more about interactive tables.';\n",
              "          element.innerHTML = '';\n",
              "          dataTable['output_type'] = 'display_data';\n",
              "          await google.colab.output.renderOutput(dataTable, element);\n",
              "          const docLink = document.createElement('div');\n",
              "          docLink.innerHTML = docLinkHtml;\n",
              "          element.appendChild(docLink);\n",
              "        }\n",
              "      </script>\n",
              "    </div>\n",
              "  </div>\n",
              "  "
            ],
            "text/plain": [
              "     DH1   DH2  DH3   KV\n",
              "23  6.75  5.25  5.0  2NT"
            ]
          },
          "metadata": {},
          "execution_count": 31
        }
      ]
    },
    {
      "cell_type": "code",
      "source": [
        "cau4_r.describe()"
      ],
      "metadata": {
        "colab": {
          "base_uri": "https://localhost:8080/",
          "height": 300
        },
        "id": "-rNRMOIOYfoK",
        "outputId": "af1c98b7-43ca-4ec5-ef1c-27f95767b529"
      },
      "execution_count": 32,
      "outputs": [
        {
          "output_type": "execute_result",
          "data": {
            "text/html": [
              "\n",
              "  <div id=\"df-45db5efb-d5cd-4b17-a447-63b41a31be31\">\n",
              "    <div class=\"colab-df-container\">\n",
              "      <div>\n",
              "<style scoped>\n",
              "    .dataframe tbody tr th:only-of-type {\n",
              "        vertical-align: middle;\n",
              "    }\n",
              "\n",
              "    .dataframe tbody tr th {\n",
              "        vertical-align: top;\n",
              "    }\n",
              "\n",
              "    .dataframe thead th {\n",
              "        text-align: right;\n",
              "    }\n",
              "</style>\n",
              "<table border=\"1\" class=\"dataframe\">\n",
              "  <thead>\n",
              "    <tr style=\"text-align: right;\">\n",
              "      <th></th>\n",
              "      <th>DH1</th>\n",
              "      <th>DH2</th>\n",
              "      <th>DH3</th>\n",
              "    </tr>\n",
              "  </thead>\n",
              "  <tbody>\n",
              "    <tr>\n",
              "      <th>count</th>\n",
              "      <td>1.00</td>\n",
              "      <td>1.00</td>\n",
              "      <td>1.0</td>\n",
              "    </tr>\n",
              "    <tr>\n",
              "      <th>mean</th>\n",
              "      <td>6.75</td>\n",
              "      <td>5.25</td>\n",
              "      <td>5.0</td>\n",
              "    </tr>\n",
              "    <tr>\n",
              "      <th>std</th>\n",
              "      <td>NaN</td>\n",
              "      <td>NaN</td>\n",
              "      <td>NaN</td>\n",
              "    </tr>\n",
              "    <tr>\n",
              "      <th>min</th>\n",
              "      <td>6.75</td>\n",
              "      <td>5.25</td>\n",
              "      <td>5.0</td>\n",
              "    </tr>\n",
              "    <tr>\n",
              "      <th>25%</th>\n",
              "      <td>6.75</td>\n",
              "      <td>5.25</td>\n",
              "      <td>5.0</td>\n",
              "    </tr>\n",
              "    <tr>\n",
              "      <th>50%</th>\n",
              "      <td>6.75</td>\n",
              "      <td>5.25</td>\n",
              "      <td>5.0</td>\n",
              "    </tr>\n",
              "    <tr>\n",
              "      <th>75%</th>\n",
              "      <td>6.75</td>\n",
              "      <td>5.25</td>\n",
              "      <td>5.0</td>\n",
              "    </tr>\n",
              "    <tr>\n",
              "      <th>max</th>\n",
              "      <td>6.75</td>\n",
              "      <td>5.25</td>\n",
              "      <td>5.0</td>\n",
              "    </tr>\n",
              "  </tbody>\n",
              "</table>\n",
              "</div>\n",
              "      <button class=\"colab-df-convert\" onclick=\"convertToInteractive('df-45db5efb-d5cd-4b17-a447-63b41a31be31')\"\n",
              "              title=\"Convert this dataframe to an interactive table.\"\n",
              "              style=\"display:none;\">\n",
              "        \n",
              "  <svg xmlns=\"http://www.w3.org/2000/svg\" height=\"24px\"viewBox=\"0 0 24 24\"\n",
              "       width=\"24px\">\n",
              "    <path d=\"M0 0h24v24H0V0z\" fill=\"none\"/>\n",
              "    <path d=\"M18.56 5.44l.94 2.06.94-2.06 2.06-.94-2.06-.94-.94-2.06-.94 2.06-2.06.94zm-11 1L8.5 8.5l.94-2.06 2.06-.94-2.06-.94L8.5 2.5l-.94 2.06-2.06.94zm10 10l.94 2.06.94-2.06 2.06-.94-2.06-.94-.94-2.06-.94 2.06-2.06.94z\"/><path d=\"M17.41 7.96l-1.37-1.37c-.4-.4-.92-.59-1.43-.59-.52 0-1.04.2-1.43.59L10.3 9.45l-7.72 7.72c-.78.78-.78 2.05 0 2.83L4 21.41c.39.39.9.59 1.41.59.51 0 1.02-.2 1.41-.59l7.78-7.78 2.81-2.81c.8-.78.8-2.07 0-2.86zM5.41 20L4 18.59l7.72-7.72 1.47 1.35L5.41 20z\"/>\n",
              "  </svg>\n",
              "      </button>\n",
              "      \n",
              "  <style>\n",
              "    .colab-df-container {\n",
              "      display:flex;\n",
              "      flex-wrap:wrap;\n",
              "      gap: 12px;\n",
              "    }\n",
              "\n",
              "    .colab-df-convert {\n",
              "      background-color: #E8F0FE;\n",
              "      border: none;\n",
              "      border-radius: 50%;\n",
              "      cursor: pointer;\n",
              "      display: none;\n",
              "      fill: #1967D2;\n",
              "      height: 32px;\n",
              "      padding: 0 0 0 0;\n",
              "      width: 32px;\n",
              "    }\n",
              "\n",
              "    .colab-df-convert:hover {\n",
              "      background-color: #E2EBFA;\n",
              "      box-shadow: 0px 1px 2px rgba(60, 64, 67, 0.3), 0px 1px 3px 1px rgba(60, 64, 67, 0.15);\n",
              "      fill: #174EA6;\n",
              "    }\n",
              "\n",
              "    [theme=dark] .colab-df-convert {\n",
              "      background-color: #3B4455;\n",
              "      fill: #D2E3FC;\n",
              "    }\n",
              "\n",
              "    [theme=dark] .colab-df-convert:hover {\n",
              "      background-color: #434B5C;\n",
              "      box-shadow: 0px 1px 3px 1px rgba(0, 0, 0, 0.15);\n",
              "      filter: drop-shadow(0px 1px 2px rgba(0, 0, 0, 0.3));\n",
              "      fill: #FFFFFF;\n",
              "    }\n",
              "  </style>\n",
              "\n",
              "      <script>\n",
              "        const buttonEl =\n",
              "          document.querySelector('#df-45db5efb-d5cd-4b17-a447-63b41a31be31 button.colab-df-convert');\n",
              "        buttonEl.style.display =\n",
              "          google.colab.kernel.accessAllowed ? 'block' : 'none';\n",
              "\n",
              "        async function convertToInteractive(key) {\n",
              "          const element = document.querySelector('#df-45db5efb-d5cd-4b17-a447-63b41a31be31');\n",
              "          const dataTable =\n",
              "            await google.colab.kernel.invokeFunction('convertToInteractive',\n",
              "                                                     [key], {});\n",
              "          if (!dataTable) return;\n",
              "\n",
              "          const docLinkHtml = 'Like what you see? Visit the ' +\n",
              "            '<a target=\"_blank\" href=https://colab.research.google.com/notebooks/data_table.ipynb>data table notebook</a>'\n",
              "            + ' to learn more about interactive tables.';\n",
              "          element.innerHTML = '';\n",
              "          dataTable['output_type'] = 'display_data';\n",
              "          await google.colab.output.renderOutput(dataTable, element);\n",
              "          const docLink = document.createElement('div');\n",
              "          docLink.innerHTML = docLinkHtml;\n",
              "          element.appendChild(docLink);\n",
              "        }\n",
              "      </script>\n",
              "    </div>\n",
              "  </div>\n",
              "  "
            ],
            "text/plain": [
              "        DH1   DH2  DH3\n",
              "count  1.00  1.00  1.0\n",
              "mean   6.75  5.25  5.0\n",
              "std     NaN   NaN  NaN\n",
              "min    6.75  5.25  5.0\n",
              "25%    6.75  5.25  5.0\n",
              "50%    6.75  5.25  5.0\n",
              "75%    6.75  5.25  5.0\n",
              "max    6.75  5.25  5.0"
            ]
          },
          "metadata": {},
          "execution_count": 32
        }
      ]
    },
    {
      "cell_type": "code",
      "source": [
        ""
      ],
      "metadata": {
        "id": "x_Q6eKt2EoGI"
      },
      "execution_count": null,
      "outputs": []
    },
    {
      "cell_type": "code",
      "source": [
        "cau4_r.hist()"
      ],
      "metadata": {
        "colab": {
          "base_uri": "https://localhost:8080/",
          "height": 368
        },
        "id": "35zuVMe5YKdW",
        "outputId": "c2fc8e69-7018-4844-e745-13db6d4ce5c1"
      },
      "execution_count": 33,
      "outputs": [
        {
          "output_type": "execute_result",
          "data": {
            "text/plain": [
              "array([[<matplotlib.axes._subplots.AxesSubplot object at 0x7f9d53074750>,\n",
              "        <matplotlib.axes._subplots.AxesSubplot object at 0x7f9d52c79990>],\n",
              "       [<matplotlib.axes._subplots.AxesSubplot object at 0x7f9d52e273d0>,\n",
              "        <matplotlib.axes._subplots.AxesSubplot object at 0x7f9d526cfe10>]],\n",
              "      dtype=object)"
            ]
          },
          "metadata": {},
          "execution_count": 33
        },
        {
          "output_type": "display_data",
          "data": {
            "image/png": "[encoded data removed]",
            "text/plain": [
              "<Figure size 432x288 with 4 Axes>"
            ]
          },
          "metadata": {
            "needs_background": "light"
          }
        }
      ]
    },
    {
      "cell_type": "code",
      "source": [
        "cau4_r.plot.bar()"
      ],
      "metadata": {
        "colab": {
          "base_uri": "https://localhost:8080/",
          "height": 286
        },
        "id": "emTRymGyYMpk",
        "outputId": "af795f1d-6e71-4ca8-9294-b98a2152a315"
      },
      "execution_count": 34,
      "outputs": [
        {
          "output_type": "execute_result",
          "data": {
            "text/plain": [
              "<matplotlib.axes._subplots.AxesSubplot at 0x7f9d5262f850>"
            ]
          },
          "metadata": {},
          "execution_count": 34
        },
        {
          "output_type": "display_data",
          "data": {
            "image/png": "[encoded data removed]",
            "text/plain": [
              "<Figure size 432x288 with 1 Axes>"
            ]
          },
          "metadata": {
            "needs_background": "light"
          }
        }
      ]
    },
    {
      "cell_type": "code",
      "source": [
        "# Phần 3:\n",
        "  # câu 1:\n",
        "data1_F =  df[df['GT']=='F']\n",
        "d=df.loc[(   data1_F.count()     ), ['XL1','XL2','XL3'] ]\n"
      ],
      "metadata": {
        "id": "ttxQ5wPR9hfw"
      },
      "execution_count": 101,
      "outputs": []
    },
    {
      "cell_type": "code",
      "source": [
        "# Phần 4:\n",
        "  # câu 1:\n",
        "df.loc[(df['T1'] < 5), 'phanlopt1'] = 'kem'\n",
        "df.loc[(df['T1'] >=5) & (df['T1'] <7), 'phanlopt1'] = 'trungbinh'\n",
        "df.loc[(df['T1'] >=7) & (df['T1'] <8), 'phanlopt1'] = 'kha'\n",
        "df.loc[(df['T1'] >=85), 'phanlopt1'] = 'gioi'\n",
        "\n",
        "\n",
        "df['T1'].plot.line()\n"
      ],
      "metadata": {
        "colab": {
          "base_uri": "https://localhost:8080/",
          "height": 282
        },
        "id": "vGn43QsEGtVP",
        "outputId": "774ac2d0-f5c9-4edc-b99e-9bc4b00478da"
      },
      "execution_count": 129,
      "outputs": [
        {
          "output_type": "execute_result",
          "data": {
            "text/plain": [
              "<matplotlib.axes._subplots.AxesSubplot at 0x7f9d4be3ea10>"
            ]
          },
          "metadata": {},
          "execution_count": 129
        },
        {
          "output_type": "display_data",
          "data": {
            "image/png": "[encoded data removed]",
            "text/plain": [
              "<Figure size 432x288 with 1 Axes>"
            ]
          },
          "metadata": {
            "needs_background": "light"
          }
        }
      ]
    },
    {
      "cell_type": "code",
      "source": [
        "#CAU2:\n",
        "dfphanlopt1 = df.groupby(['T1', 'phanlopt1'])[['T1', 'phanlopt1']].count()\n",
        "\n",
        "unstackphanlopt1 = dfphanlopt1.unstack()\n",
        "\n",
        "unstackphanlopt1['phanlopt1'].plot(ylabel='Count')\n",
        "\n",
        "df.groupby('T1')['T1'].count().plot()"
      ],
      "metadata": {
        "colab": {
          "base_uri": "https://localhost:8080/",
          "height": 296
        },
        "id": "0DDJ4-stHibf",
        "outputId": "a58c0791-ff9d-4e6f-bb7c-2dd5bb921c9f"
      },
      "execution_count": 109,
      "outputs": [
        {
          "output_type": "execute_result",
          "data": {
            "text/plain": [
              "<matplotlib.axes._subplots.AxesSubplot at 0x7f9d4f7ad210>"
            ]
          },
          "metadata": {},
          "execution_count": 109
        },
        {
          "output_type": "display_data",
          "data": {
            "image/png": "[encoded data removed]",
            "text/plain": [
              "<Figure size 432x288 with 1 Axes>"
            ]
          },
          "metadata": {
            "needs_background": "light"
          }
        }
      ]
    },
    {
      "cell_type": "code",
      "source": [
        "#CAU3:\n",
        "dfphanlopt1 = df.groupby(['T1', 'phanlopt1'])[['T1', 'phanlopt1']].count()\n",
        "\n",
        "unstackphanlopt1 = dfphanlopt1.unstack()\n",
        "\n",
        "unstackphanlopt1['phanlopt1'].plot(ylabel='Count')\n",
        "\n",
        "df.groupby('T1')['T1'].count().plot.bar(stacked=False)"
      ],
      "metadata": {
        "colab": {
          "base_uri": "https://localhost:8080/",
          "height": 302
        },
        "id": "-RtKYoeuJbju",
        "outputId": "a8a466b4-7a20-4511-db05-e5a899e80605"
      },
      "execution_count": 142,
      "outputs": [
        {
          "output_type": "execute_result",
          "data": {
            "text/plain": [
              "<matplotlib.axes._subplots.AxesSubplot at 0x7f9d4b26aed0>"
            ]
          },
          "metadata": {},
          "execution_count": 142
        },
        {
          "output_type": "display_data",
          "data": {
            "image/png": "[encoded data removed]",
            "text/plain": [
              "<Figure size 432x288 with 1 Axes>"
            ]
          },
          "metadata": {
            "needs_background": "light"
          }
        }
      ]
    },
    {
      "cell_type": "code",
      "source": [
        "#phần 5:\n",
        "#cau1:\n",
        "sns.boxplot( x='T1', data=df)\n",
        "\n"
      ],
      "metadata": {
        "colab": {
          "base_uri": "https://localhost:8080/",
          "height": 296
        },
        "id": "Wibp6GDDK5aA",
        "outputId": "33ff7474-ae36-4558-82e3-f04e40e24067"
      },
      "execution_count": 120,
      "outputs": [
        {
          "output_type": "execute_result",
          "data": {
            "text/plain": [
              "<matplotlib.axes._subplots.AxesSubplot at 0x7f9d4efe00d0>"
            ]
          },
          "metadata": {},
          "execution_count": 120
        },
        {
          "output_type": "display_data",
          "data": {
            "image/png": "[encoded data removed]",
            "text/plain": [
              "<Figure size 432x288 with 1 Axes>"
            ]
          },
          "metadata": {
            "needs_background": "light"
          }
        }
      ]
    },
    {
      "cell_type": "code",
      "source": [
        "\n",
        "#cau2:\n",
        "\n",
        "sns.boxplot(y='T1', x='phanlopt1', data=df)"
      ],
      "metadata": {
        "colab": {
          "base_uri": "https://localhost:8080/",
          "height": 296
        },
        "id": "L1Rnn-jYLq5Y",
        "outputId": "7f5b3dd3-c9e0-4104-d9d4-f832c6a0ba97"
      },
      "execution_count": 121,
      "outputs": [
        {
          "output_type": "execute_result",
          "data": {
            "text/plain": [
              "<matplotlib.axes._subplots.AxesSubplot at 0x7f9d4eeee710>"
            ]
          },
          "metadata": {},
          "execution_count": 121
        },
        {
          "output_type": "display_data",
          "data": {
            "image/png": "[encoded data removed]",
            "text/plain": [
              "<Figure size 432x288 with 1 Axes>"
            ]
          },
          "metadata": {
            "needs_background": "light"
          }
        }
      ]
    },
    {
      "cell_type": "code",
      "source": [
        "dh123 = df[['DH1', 'DH2', 'DH3']]\n",
        "\n",
        "sns.pairplot(dh123, kind=\"scatter\")\n",
        "\n",
        "plt.show()"
      ],
      "metadata": {
        "colab": {
          "base_uri": "https://localhost:8080/",
          "height": 550
        },
        "id": "FRseGosKLt56",
        "outputId": "37faaf39-5824-4499-fc73-0ee4ae3d2dc8"
      },
      "execution_count": 123,
      "outputs": [
        {
          "output_type": "display_data",
          "data": {
            "image/png": "[encoded data removed]",
            "text/plain": [
              "<Figure size 540x540 with 12 Axes>"
            ]
          },
          "metadata": {
            "needs_background": "light"
          }
        }
      ]
    }
  ]
}